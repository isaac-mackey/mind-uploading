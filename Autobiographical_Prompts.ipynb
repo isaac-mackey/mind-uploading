{
  "nbformat": 4,
  "nbformat_minor": 0,
  "metadata": {
    "colab": {
      "provenance": [],
      "include_colab_link": true
    },
    "kernelspec": {
      "name": "python3",
      "display_name": "Python 3"
    },
    "language_info": {
      "name": "python"
    }
  },
  "cells": [
    {
      "cell_type": "markdown",
      "metadata": {
        "id": "view-in-github",
        "colab_type": "text"
      },
      "source": [
        "<a href=\"https://colab.research.google.com/github/isaac-mackey/mind-uploading/blob/main/Autobiographical_Prompts.ipynb\" target=\"_parent\"><img src=\"https://colab.research.google.com/assets/colab-badge.svg\" alt=\"Open In Colab\"/></a>"
      ]
    },
    {
      "cell_type": "markdown",
      "source": [
        "## Installs and Imports"
      ],
      "metadata": {
        "id": "mSrCM17zfIOx"
      }
    },
    {
      "cell_type": "code",
      "source": [
        "%%capture\n",
        "!pip install openai"
      ],
      "metadata": {
        "id": "VJ1CHHAwzozt"
      },
      "execution_count": 2,
      "outputs": []
    },
    {
      "cell_type": "code",
      "source": [
        "%%capture\n",
        "import openai\n",
        "from openai import OpenAI"
      ],
      "metadata": {
        "id": "WysuPFYQHfCq"
      },
      "execution_count": 3,
      "outputs": []
    },
    {
      "cell_type": "markdown",
      "source": [
        "## Autobiographical Prompts"
      ],
      "metadata": {
        "id": "EukrF6Ix3OYh"
      }
    },
    {
      "cell_type": "code",
      "source": [
        "describe_prompt_list = [\n",
        "    \"Describe your childhood memories.\",\n",
        "    \"Describe significant events or milestones from my early years.\",\n",
        "    \"Describe your family members and their influence on your life.\",\n",
        "    \"Describe important family gatherings or traditions.\",\n",
        "    \"Describe your academic achievements and challenges.\",\n",
        "    \"Describe pivotal moments in your education.\"\n",
        "    \"Describe pivotal moments in your career path.\",\n",
        "    \"Describe your career progression and professional achievements.\",\n",
        "    \"Describe your job changes, promotions, or significant projects.\",\n",
        "    \"Describe your personal goals and aspirations.\",\n",
        "    \"Describe significant life events.\",\n",
        "    \"Describe how major life events have shaped your identity and values.\",\n",
        "    \"Describe your physical and mental health.\",\n",
        "    \"Describe your hobbies and passions.\",\n",
        "    \"Describe your creative projects.\",\n",
        "    \"Describe your travel experiences.\"\n",
        "    \"Describe your important friendships and social connections.\",\n",
        "    \"Describe memorable social gatherings or meaningful relationships.\",\n",
        "    \"Describe your core values and beliefs.\",\n",
        "    \"Describe moral or ethical dilemmas you faced and how they were resolved.\"]\n",
        "\n",
        "topics = ['childhood', 'family', 'academics', 'education', 'goals', 'health', 'exercise', 'hobbies', 'travel', 'friends', 'morals']\n",
        "\n",
        "longer_topics = ['childhood', 'family', 'academics', 'education', 'goals', 'health', 'exercise', 'hobbies', 'travel', 'friends', 'morals', 'career', 'relationships', 'technology', 'art', 'culture', 'finances', 'sports', 'food', 'entertainment']\n",
        "\n",
        "topic_prompt_list = [\"Tell me about your \"+x+\".\" for x in longer_topics]\n",
        "\n",
        "factual_prompt_list = [\n",
        "    \"Identify ten biographical facts about yourself\",\n",
        "    \"Identify ten biographical facts about yourself that will not change soon\",\n",
        "    \"List some people who know you personally\",\n",
        "    \"What is your full name?\",\n",
        "    \"When and where were you born?\",\n",
        "    \"Who are your parents and siblings?\",\n",
        "    \"Where did you grow up?\",\n",
        "    \"What schools did you attend?\",\n",
        "    \"What was your childhood like?\",\n",
        "    \"What were your favorite childhood activities?\",\n",
        "    \"Did you have any childhood pets?\",\n",
        "    \"What was your first job?\",\n",
        "    \"What is your current job?\",\n",
        "    \"Have you ever been married?\",\n",
        "    \"Do you have any children?\",\n",
        "    \"What are your hobbies?\",\n",
        "    \"What are your favorite foods?\",\n",
        "    \"What languages do you speak?\",\n",
        "    \"What is your favorite book/movie?\",\n",
        "    \"What is your favorite place you've visited?\",\n",
        "    \"What is your biggest accomplishment?\",\n",
        "    \"What are your future goals?\",\n",
        "    \"What is your most memorable moment?\"\n",
        "]"
      ],
      "metadata": {
        "id": "Lhrgrf_xubdq"
      },
      "execution_count": null,
      "outputs": []
    },
    {
      "cell_type": "markdown",
      "source": [
        "## Get answers to prompts"
      ],
      "metadata": {
        "id": "ZOT7ErziM7g8"
      }
    },
    {
      "cell_type": "code",
      "source": [
        "files_to_retrieve = []\n",
        "\n",
        "sms_dated_txt_id = 'file-PyQ0LQpsZd8AqcXbJEOcASm1'\n",
        "files_to_retrieve.append(sms_dated_txt_id)\n",
        "\n",
        "journal_march_2011_jan_2018_txt_id = 'file-7yqmFEB36Ym7AorsSYhoTtmE'\n",
        "files_to_retrieve.append(journal_march_2011_jan_2018_txt_id)\n",
        "\n",
        "# old fine_tuned_model_id = 'ft:gpt-3.5-turbo-0613:university-of-california-santa-barbara:isaac-sms-bot:8ds3OPKx'\n",
        "# fine_tuned_model_id = 'ft:gpt-3.5-turbo-0613:university-of-california-santa-barbara:isaac-sms-combined:8fD18uw4'\n",
        "\n",
        "system_message = (\"Welcome to Isaac's personal assistant! You now have access to information about Isaac's life. \"\n",
        "                  \"Use this information to answer the prompts as if you are him. \"\n",
        "                  \"Your goal is to demonstrate excellent autobiographical memory. \"\n",
        "                  \"Don't tell me what you're doing, just answer the prompts.\"\n",
        "                  )\n",
        "\n",
        "my_assistant = client.beta.assistants.create(\n",
        "    instructions=system_message,\n",
        "    name=\"Isaac Assistant\",\n",
        "    tools=[{\"type\": \"retrieval\"}],#{\"type\": \"code_interpreter\"}],\n",
        "    #model='gpt-3.5-turbo-1106',\n",
        "    model=\"gpt-4-turbo-preview\",\n",
        "    # model=fine_tuned_model_id,\n",
        "    file_ids=files_to_retrieve\n",
        ")\n",
        "\n",
        "# show_json(assistant)"
      ],
      "metadata": {
        "id": "2leTaJF13Zzg"
      },
      "execution_count": null,
      "outputs": []
    },
    {
      "cell_type": "code",
      "source": [
        "import time\n",
        "\n",
        "def wait_on_run(run, thread):\n",
        "    while run.status == \"queued\" or run.status == \"in_progress\":\n",
        "        run = client.beta.threads.runs.retrieve(\n",
        "            thread_id=thread.id,\n",
        "            run_id=run.id,\n",
        "        )\n",
        "        time.sleep(0.5)\n",
        "    return run\n",
        "\n",
        "prompt_answers_2 = {}\n",
        "\n",
        "prompt_list = describe_prompt_list + topic_prompt_list + factual_prompt_list\n",
        "\n",
        "prompt_list = prompt_list\n",
        "i = 1\n",
        "for prompt in prompt_list:\n",
        "    print(\"i: \",str(i),\" of \",str(len(prompt_list)))\n",
        "    i += 1\n",
        "\n",
        "    thread = client.beta.threads.create()\n",
        "    # show_json(thread)\n",
        "\n",
        "    print(prompt)\n",
        "\n",
        "    prompt_message = client.beta.threads.messages.create(\n",
        "        thread_id=thread.id,\n",
        "        role=\"user\",\n",
        "        content=prompt,\n",
        "        file_ids=files_to_retrieve\n",
        "    )\n",
        "\n",
        "    chat_messages = []\n",
        "\n",
        "    chat_messages.append({'role':'user','content':prompt})\n",
        "\n",
        "    run = client.beta.threads.runs.create(\n",
        "    thread_id=thread.id,\n",
        "    assistant_id=my_assistant.id\n",
        "    )\n",
        "\n",
        "    run = wait_on_run(run, thread)\n",
        "    # show_json(run)\n",
        "\n",
        "    if run.status == 'completed':\n",
        "      response_messages = client.beta.threads.messages.list(\n",
        "        thread_id=thread.id\n",
        "      )\n",
        "      # show_json(messages)\n",
        "\n",
        "      m = []\n",
        "      for y in response_messages:\n",
        "          m.append(y)\n",
        "      m.reverse()\n",
        "      answer = \"\"\n",
        "      for x in m:\n",
        "          # print(x)\n",
        "          print('IsaacBot: ' if x.assistant_id else 'user:     ', end='')\n",
        "          print(x.content[0].text.value)\n",
        "          print()\n",
        "          if x.assistant_id:\n",
        "              answer += ' '+x.content[0].text.value\n",
        "\n",
        "      print('IsaacBotAnswer:', answer)\n",
        "\n",
        "      chat_messages.append({'role':'IsaacBot:  ','content':answer})\n",
        "\n",
        "      prompt_answers_2[prompt] = answer\n",
        "\n",
        "      print()\n",
        "      print()\n",
        "    else:\n",
        "      print(run.status)"
      ],
      "metadata": {
        "id": "1kOuk-YA3UvS"
      },
      "execution_count": null,
      "outputs": []
    },
    {
      "cell_type": "code",
      "source": [
        "chat_messages[0]['content'].content[0].text.value"
      ],
      "metadata": {
        "id": "lu5DojMaQxch"
      },
      "execution_count": null,
      "outputs": []
    },
    {
      "cell_type": "code",
      "source": [
        "for x in chat_messages:\n",
        "  print(x.keys())\n",
        "  print(x['role'])\n",
        "  print('#'*60)\n",
        "  print(x['content'])\n",
        "  # print(x)\n",
        "  print('#'*120)"
      ],
      "metadata": {
        "id": "-okt9UCAMEuV"
      },
      "execution_count": null,
      "outputs": []
    },
    {
      "cell_type": "markdown",
      "source": [
        "## Save the conversation to Google Drive"
      ],
      "metadata": {
        "id": "YV3ti6Ts1RyY"
      }
    },
    {
      "cell_type": "code",
      "source": [
        "from google.colab import drive\n",
        "drive.mount('/content/drive')"
      ],
      "metadata": {
        "id": "9s7tizum9Jzh",
        "colab": {
          "base_uri": "https://localhost:8080/"
        },
        "outputId": "b8137369-bcc0-4c22-a46c-e03d1237ba02"
      },
      "execution_count": null,
      "outputs": [
        {
          "output_type": "stream",
          "name": "stdout",
          "text": [
            "Mounted at /content/drive\n"
          ]
        }
      ]
    },
    {
      "cell_type": "code",
      "source": [
        "import json\n",
        "\n",
        "chat_messages = []\n",
        "\n",
        "chat_messages.append({\"role\":\"system\",\"content\":system_message})\n",
        "\n",
        "for k,v in prompt_answers.items():\n",
        "    chat_messages.append({\"role\":\"user\",\"content\":k})\n",
        "    chat_messages.append({\"role\":\"assistant\",\"content\":v})\n",
        "\n",
        "json_string = json.dumps(chat_messages)\n",
        "\n",
        "conversation_name = \"april-5-62-autobio-prompt-answers-gpt4-RAG-journal\"\n",
        "\n",
        "print(\"Conversation name:\",conversation_name)\n",
        "\n",
        "conversation_name_check = input(\"Confirm conversation name (Y) or provide a name for the conversation: \")\n",
        "# Validate the conversation name\n",
        "\n",
        "if not conversation_name_check.lower() == \"y\":\n",
        "    conversation_name = conversation_name_check\n",
        "\n",
        "while \" \" in conversation_name:\n",
        "  print(\"Invalid conversation name. Please enter a name without spaces.\")\n",
        "  conversation_name = input(\"Provide a name for the conversation: \")\n",
        "\n",
        "import datetime\n",
        "eastern_now_str = datetime.datetime.utcnow().astimezone(datetime.timezone(datetime.timedelta(hours=-4))).strftime(\"%Y_%m_%d_%H:%M:%S\")\n",
        "conversation_date = eastern_now_str\n",
        "\n",
        "# Create the file name.\n",
        "file_name = f\"{conversation_name}_{conversation_date}\"\n",
        "\n",
        "# Save the JSON string to a file in Google Drive.\n",
        "with open(f\"/content/drive/MyDrive/IsaacBotLogs/{file_name}.json\", \"w\") as f:\n",
        "    f.write(json_string)\n",
        "\n",
        "with open(f\"/content/drive/MyDrive/IsaacBotLogs/{file_name}.txt\", \"w\") as f:\n",
        "    f.write(str(len(chat_messages))+ \" messages\\n\\n\")\n",
        "    f.write(f\"system:      {system_message}\\n\\n\")\n",
        "    for k,v in prompt_answers.items():\n",
        "        f.write(f\"user:      {k}\\n\")\n",
        "        f.write(f\"assistant: {v}\\n\\n\")\n",
        "    # f.write(str(len(chat_messages))+\" messages\\n\\n\")\n",
        "    # for message in chat_messages:\n",
        "    #     role = message[\"role\"]\n",
        "    #     content = message[\"content\"]\n",
        "    #     f.write(f\"{role}: {content}\\n\")"
      ],
      "metadata": {
        "id": "UFlDyhEMnJhj"
      },
      "execution_count": null,
      "outputs": []
    },
    {
      "cell_type": "code",
      "source": [
        "for k,v in prompt_answers.items():\n",
        "    print(k)\n",
        "    print(v)"
      ],
      "metadata": {
        "id": "vwDDLAw0_Kcm"
      },
      "execution_count": null,
      "outputs": []
    }
  ]
}
