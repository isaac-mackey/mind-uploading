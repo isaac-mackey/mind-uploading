{
  "cells": [
    {
      "cell_type": "markdown",
      "metadata": {
        "id": "view-in-github",
        "colab_type": "text"
      },
      "source": [
        "<a href=\"https://colab.research.google.com/github/isaac-mackey/mind-uploading/blob/main/Gmail_Mbox_to_TXT_JSON.ipynb\" target=\"_parent\"><img src=\"https://colab.research.google.com/assets/colab-badge.svg\" alt=\"Open In Colab\"/></a>"
      ]
    },
    {
      "cell_type": "markdown",
      "source": [
        "## Helper functions"
      ],
      "metadata": {
        "id": "Qto3PTR_Sgbc"
      }
    },
    {
      "cell_type": "code",
      "source": [
        "def print_current_time():\n",
        "    from datetime import datetime, timedelta\n",
        "    # Format the current date and time in a human-readable format\n",
        "    print((datetime.now()-timedelta(hours=5)).strftime(\"%Y-%m-%d %H:%M:%S\"))\n",
        "\n",
        "def UNIX_timestamp_to_formatted_datetime(date):\n",
        "    unix_timestamp = int(date)  # Convert to integer and then to seconds\n",
        "    date_time_obj = datetime.utcfromtimestamp(unix_timestamp)\n",
        "    # Format the datetime object as a string\n",
        "    formatted_date = date_time_obj.strftime('%Y-%m-%d %H:%M:%S')\n",
        "    return formatted_date"
      ],
      "metadata": {
        "id": "3MwykoTemMM5"
      },
      "execution_count": null,
      "outputs": []
    },
    {
      "cell_type": "markdown",
      "source": [
        "## Mount to Google Drive to get mbox files"
      ],
      "metadata": {
        "id": "C28qLU4iSjZZ"
      }
    },
    {
      "cell_type": "code",
      "source": [
        "from google.colab import drive\n",
        "drive.mount('/content/drive', force_remount=True)\n",
        "print()\n",
        "\n",
        "mbox_files = []\n",
        "mbox_json_files = []\n",
        "\n",
        "import os\n",
        "for x in os.listdir('/content/drive/MyDrive'):\n",
        "    if x.endswith('mbox'):\n",
        "        mbox_files.append(x)\n",
        "    if 'mbox' in x and x.endswith('json'):\n",
        "        mbox_json_files.append(x)\n",
        "\n",
        "for x in mbox_files:\n",
        "    print(x)\n",
        "print()\n",
        "for x in mbox_json_files:\n",
        "    print(x)"
      ],
      "metadata": {
        "colab": {
          "base_uri": "https://localhost:8080/"
        },
        "id": "JJmBR_GWTfM9",
        "outputId": "ff85291a-b12e-47b8-f755-02f2b3820f94"
      },
      "execution_count": null,
      "outputs": [
        {
          "output_type": "stream",
          "name": "stdout",
          "text": [
            "Mounted at /content/drive\n",
            "\n",
            "in-sent-after-2023-07-01-before-2024-01-12.mbox\n",
            "greg-egan-two-emails (1).mbox\n",
            "SMS-2014-2016.mbox\n",
            "greg-egan-two-emails.mbox\n",
            "isaac-mackey-Sent-20240109-001.mbox\n",
            "in-sent-after-2023-01-01-before-2023-07-01.mbox\n",
            "\n",
            "in-sent-after-2023-07-01-before-2024-01-12.mbox.json\n",
            "in-sent-after-2023-07-01-before-2024-01-12.mbox-2.json\n",
            "in-sent-after-2023-07-01-before-2024-01-12.mbox-raw-1.json\n",
            "in-sent-after-2023-07-01-before-2024-01-12.mbox-raw-2.json\n",
            "in-sent-after-2023-07-01-before-2024-01-12.mbox-4.json\n",
            "in-sent-after-2023-07-01-before-2024-01-12.mbox-5.json\n"
          ]
        }
      ]
    },
    {
      "cell_type": "code",
      "source": [
        "file_name = \"in-sent-after-2023-07-01-before-2024-01-12.mbox.json\"\n",
        "if file_name in os.listdir('/content/drive/My Drive'):\n",
        "    print(\"File already exists\")\n",
        "else:\n",
        "    print(\"File doesn't exists\")"
      ],
      "metadata": {
        "colab": {
          "base_uri": "https://localhost:8080/"
        },
        "id": "x3GrQtrigtzz",
        "outputId": "a124c6c4-fd8e-4d75-a960-1120cc81c245"
      },
      "execution_count": null,
      "outputs": [
        {
          "output_type": "stream",
          "name": "stdout",
          "text": [
            "File already exists\n"
          ]
        }
      ]
    },
    {
      "cell_type": "markdown",
      "source": [
        "## Helper functions to read mbox"
      ],
      "metadata": {
        "id": "SA-7F5sWSnY0"
      }
    },
    {
      "cell_type": "code",
      "source": [
        "def getcharsets(msg):\n",
        "    charsets = set({})\n",
        "    for c in msg.get_charsets():\n",
        "        if c is not None:\n",
        "            charsets.update([c])\n",
        "    return charsets\n",
        "\n",
        "def handleerror(errmsg, emailmsg,cs):\n",
        "    print()\n",
        "    print(errmsg)\n",
        "    print(\"This error occurred while decoding with \",cs,\" charset.\")\n",
        "    print(\"These charsets were found in the one email.\",getcharsets(emailmsg))\n",
        "    print(\"This is the subject:\",emailmsg['subject'])\n",
        "    print(\"This is the sender:\",emailmsg['From'])\n",
        "\n",
        "def getbodyfromemail(msg):\n",
        "    body = None\n",
        "    #Walk through the parts of the email to find the text body.\n",
        "    if msg.is_multipart():\n",
        "        for part in msg.walk():\n",
        "\n",
        "            # If part is multipart, walk through the subparts.\n",
        "            if part.is_multipart():\n",
        "\n",
        "                for subpart in part.walk():\n",
        "                    if subpart.get_content_type() == 'text/plain':\n",
        "                        # Get the subpart payload (i.e the message body)\n",
        "                        body = subpart.get_payload(decode=True)\n",
        "                        #charset = subpart.get_charset()\n",
        "\n",
        "            # Part isn't multipart so get the email body\n",
        "            elif part.get_content_type() == 'text/plain':\n",
        "                body = part.get_payload(decode=True)\n",
        "                #charset = part.get_charset()\n",
        "\n",
        "    # If this isn't a multi-part message then get the payload (i.e the message body)\n",
        "    elif msg.get_content_type() == 'text/plain':\n",
        "        body = msg.get_payload(decode=True)\n",
        "\n",
        "   # No checking done to match the charset with the correct part.\n",
        "    for charset in getcharsets(msg):\n",
        "        try:\n",
        "            body = body.decode(charset)\n",
        "        except UnicodeDecodeError:\n",
        "            continue\n",
        "            # handleerror(\"UnicodeDecodeError: encountered.\",msg,charset)\n",
        "        except AttributeError:\n",
        "            continue\n",
        "            # handleerror(\"AttributeError: encountered\" ,msg,charset)\n",
        "\n",
        "        # body = body.decode('utf-8', errors='replace')\n",
        "\n",
        "    return body\n",
        "\n",
        "from datetime import datetime\n",
        "import time\n",
        "from dateutil import parser\n",
        "\n",
        "def email_datetime_str_to_unix_timestamp(datetime_str):\n",
        "\n",
        "    # The provided datetime string\n",
        "    example_datetime_str = \"Sat, 16 Dec 2023 18:59:31 -0500\"\n",
        "\n",
        "    if not datetime_str:\n",
        "        datetime_str = 1704826771\n",
        "\n",
        "    if type(datetime_str) == int:\n",
        "        return datetime_str\n",
        "\n",
        "    if datetime_str[-6:] in [\" (\"+x+\")\" for x in [\"UTC\", \"PDT\", \"GMT\", \"PST\", \"EST\", \"EDT\", \"MDT\"]]:\n",
        "        datetime_str = datetime_str[:-6]\n",
        "\n",
        "    if datetime_str[-12:] in [\" (\"+x+\")\" for x in [\"GMT+01:00\", \"GMT+08:00\"]]:\n",
        "        datetime_str = datetime_str[:-12]\n",
        "\n",
        "    if datetime_str[3] == ',':\n",
        "        datetime_str = datetime_str[5:]\n",
        "\n",
        "    # Parse the date string into a datetime object\n",
        "    dt = parser.parse(datetime_str)\n",
        "\n",
        "    # Convert to Unix timestamp\n",
        "    unix_timestamp = int(time.mktime(dt.timetuple()))\n",
        "\n",
        "    return unix_timestamp"
      ],
      "metadata": {
        "id": "vFckKDyUtLbT"
      },
      "execution_count": null,
      "outputs": []
    },
    {
      "cell_type": "code",
      "source": [
        "def getcharsets(msg):\n",
        "    charsets = set({})\n",
        "    for c in msg.get_charsets():\n",
        "        if c is not None:\n",
        "            charsets.update([c])\n",
        "    return charsets\n",
        "\n",
        "def getBody(msg):\n",
        "    while msg.is_multipart():\n",
        "        msg=msg.get_payload()[0]\n",
        "    t=msg.get_payload(decode=True)\n",
        "    for charset in getcharsets(msg):\n",
        "        t=t.decode(charset)\n",
        "    return t"
      ],
      "metadata": {
        "id": "9RjjuFXi5pSK"
      },
      "execution_count": null,
      "outputs": []
    },
    {
      "cell_type": "markdown",
      "source": [
        "## Designate mbox file name to extract"
      ],
      "metadata": {
        "id": "zsCokQDlSqMY"
      }
    },
    {
      "cell_type": "code",
      "source": [
        "mbox_name = \"SMS-2014-2016.mbox\"\n",
        "mbox_name = \"greg-egan-two-emails.mbox\"\n",
        "mbox_name = \"isaac-mackey-Sent-20240109-001.mbox\"\n",
        "mbox_name = \"in-sent-after-2023-07-01-before-2024-01-12.mbox\"\n",
        "mbox_name = \"in-sent-after-2023-01-01-before-2023-07-01.mbox\"\n",
        "\n",
        "# Path to your mbox file\n",
        "mbox_path = '/content/drive/My Drive/'+mbox_name\n",
        "\n",
        "import mailbox\n",
        "\n",
        "# Open the mbox file\n",
        "mbox = mailbox.mbox(mbox_path)"
      ],
      "metadata": {
        "id": "r4jSM7ssulmF"
      },
      "execution_count": null,
      "outputs": []
    },
    {
      "cell_type": "code",
      "execution_count": null,
      "metadata": {
        "id": "nQIwcQCdYLL0"
      },
      "outputs": [],
      "source": [
        "# Save emails into a simpler data structure\n",
        "emails = []\n",
        "thread_ids = []\n",
        "\n",
        "i = 0\n",
        "limit = 10000\n",
        "\n",
        "# Iterate through messages\n",
        "for message in mbox:\n",
        "    # print(message)\n",
        "    # break\n",
        "\n",
        "    try:\n",
        "        # Extracting basic headers\n",
        "        subject = message['subject']\n",
        "        sender = message['from']\n",
        "        receiver = message['to']\n",
        "        date = message['date']\n",
        "        thread_id = message['X-GM-THRID']\n",
        "\n",
        "        # Accessing the body of the email\n",
        "        body_text = getbodyfromemail(message)\n",
        "\n",
        "        if len(body_text) > 4096:\n",
        "            body_text = body_text[:4000]\n",
        "\n",
        "        if body_text[:18] == 'Total SMS messages':\n",
        "            body_text = 'Total SMS messages'\n",
        "\n",
        "        if not body_text:\n",
        "            continue\n",
        "\n",
        "        if not thread_id in thread_ids:\n",
        "            thread_ids.append(thread_id)\n",
        "\n",
        "        json_message = {\n",
        "            'subject': subject,\n",
        "            'sender': sender,\n",
        "            'receiver': receiver,\n",
        "            'date': email_datetime_str_to_unix_timestamp(date),\n",
        "            'message': body_text,\n",
        "            'thread_id': thread_id\n",
        "        }\n",
        "\n",
        "        emails.append(json_message)\n",
        "    except:\n",
        "        continue\n",
        "    i += 1\n",
        "    if i > limit:\n",
        "        break\n",
        "\n",
        "# emails = sorted(emails, key=lambda x: x['date'])"
      ]
    },
    {
      "cell_type": "code",
      "source": [
        "print(len(emails))\n",
        "print(len(thread_ids))"
      ],
      "metadata": {
        "colab": {
          "base_uri": "https://localhost:8080/"
        },
        "id": "rQaB5HLBVLE0",
        "outputId": "c9bd8adb-608b-4332-dd58-dd7afd3f09b8"
      },
      "execution_count": null,
      "outputs": [
        {
          "output_type": "stream",
          "name": "stdout",
          "text": [
            "2083\n",
            "693\n"
          ]
        }
      ]
    },
    {
      "cell_type": "code",
      "source": [
        "for i,x in enumerate(emails):\n",
        "    # Unix timestamp to be converted\n",
        "    timestamp = emails[i]['date']\n",
        "\n",
        "    print(timestamp)\n",
        "\n",
        "    print(UNIX_timestamp_to_formatted_datetime(timestamp))\n",
        "    print()\n",
        "\n",
        "    if i > 2:\n",
        "        break"
      ],
      "metadata": {
        "colab": {
          "base_uri": "https://localhost:8080/"
        },
        "id": "s-PVA0CSVYA5",
        "outputId": "8016bf2f-be67-4a55-b4e2-a98a0c460c66"
      },
      "execution_count": null,
      "outputs": [
        {
          "output_type": "stream",
          "name": "stdout",
          "text": [
            "1687892778\n",
            "2023-06-27 19:06:18\n",
            "\n",
            "1688051013\n",
            "2023-06-29 15:03:33\n",
            "\n",
            "1687880965\n",
            "2023-06-27 15:49:25\n",
            "\n",
            "1687796972\n",
            "2023-06-26 16:29:32\n",
            "\n"
          ]
        }
      ]
    },
    {
      "cell_type": "code",
      "source": [
        "for x in emails[:3]:\n",
        "    print(x)"
      ],
      "metadata": {
        "colab": {
          "base_uri": "https://localhost:8080/"
        },
        "id": "BdwxWHZyZiHb",
        "outputId": "b631c3a9-036c-4e43-b491-df0eaf893092"
      },
      "execution_count": null,
      "outputs": [
        {
          "output_type": "stream",
          "name": "stdout",
          "text": [
            "{'subject': 'generous eval: chasing those fresh variables', 'sender': 'Isaac Mackey <isaac_mackey@cs.ucsb.edu>', 'receiver': 'George Williams <georgerichardwilliams@gmail.com>', 'date': 1687892778, 'message': \"*Body Table for r0: E1(v1)x1*\\r\\n1 entries\\r\\n| row.id | assignment          | events_covered | complete | ground     |\\r\\nchased     | constraints |\\r\\n| 0      | {'v1': 50, 'x1': 1} | {E1[50]@1([])} | True     | True       |\\r\\nTrue       | []          |\\r\\n\\r\\n\\r\\n*Head Table for r0: E2(v2)x2*\\r\\n1 entries\\r\\n| row.id | assignment                       | events_covered\\r\\n         | complete | ground     | chased     | constraints\\r\\n    |\\r\\n| 1      | {'v2': 'v2_f01', 'x2': 'x2_f02'} | {eE2['v2_f01']@x2_f02([55==\\r\\nv2_f01])} | True     | False      | n/a        | [v1 + 5 == v2_f01, 55==\\r\\nv2_f01] |\\r\\n\\r\\n*Extension Table for: E1(v1)x1 -> E2(v2)x2: 2 entries*\\r\\n| b_id | b_assmt             | b_events       | b_compl | b_gro | h_id |\\r\\nh_assm                           | h_events                              |\\r\\nh_compl | h_gro | constr                     |\\r\\n| 0    | {'v1': 50, 'x1': 1} | {E1[50]@1([])} | True    | True  | 0    | {}\\r\\n                              | set()                                 |\\r\\nFalse   | True  | [55== v2]                  |\\r\\n| 0    | {'v1': 50, 'x1': 1} | {E1[50]@1([])} | True    | True  | 1    |\\r\\n{'v2': 'v2_f01', 'x2': 'x2_f02'} | {eE2['v2_f01']@x2_f02([55== v2_f01])} |\\r\\nTrue    | False | [55== v2_f01, 55== v2_f01] |\\r\\n\\r\\n\\r\\n*Body Table for r1: E1(v1)x1, E2(v2)x1*\\r\\n2 entries\\r\\n| row.id | assignment                       | events_covered\\r\\n         | complete | ground     | chased     | constraints\\r\\n    |\\r\\n| 0      | {'v1': 50, 'x1': 1}              | {E1[50]@1([])}\\r\\n         | False    | True       | False      | [55== v2]\\r\\n    |\\r\\n| 1      | {'v2': 'v2_f01', 'x1': 'x2_f02'} | {eE2['v2_f01']@x2_f02([55==\\r\\nv2_f01])} | False    | False      | False      | [v1 + 5 == v2_f01, 55==\\r\\nv2_f01] |\\r\\n\\r\\n\\r\\n*Head Table for r1: E3(v3)x3*\\r\\n0 entries\\r\\n| row.id | assignment | events_covered | complete | ground     | chased\\r\\n| constraints |\\r\\n\\r\\n*Extension Table for: E1(v1)x1, E2(v2)x1 -> E3(v3)x3: 2 entries*\\r\\n| b_id | b_assmt                          | b_events\\r\\n       | b_compl | b_gro | h_id | h_assm  | h_events | h_compl | h_gro |\\r\\nconstr                          |\\r\\n| 0    | {'v1': 50, 'x1': 1}              | {E1[50]@1([])}\\r\\n       | False   | True  | 0    | {}      | set()    | False   | True  |\\r\\n[55== v2]                       |\\r\\n| 1    | {'v2': 'v2_f01', 'x1': 'x2_f02'} | {eE2['v2_f01']@x2_f02([55==\\r\\nv2_f01])} | False   | False | 1    | {}      | set()    | False   | True  |\\r\\n[v1 + 5 == v2_f01, 55== v2_f01] |\\r\\n\", 'thread_id': '1769910281365031411'}\n",
            "{'subject': 'Santa Barbara Skydiving', 'sender': 'Isaac Mackey <isaac_mackey@cs.ucsb.edu>', 'receiver': 'Harlan Kringen <kringen@umail.ucsb.edu>', 'date': 1688051013, 'message': 'https://skydivesantabarbara.com/\\r\\n', 'thread_id': '1770076202955815829'}\n",
            "{'subject': 'unsubscribe', 'sender': '\"Isaac Mackey\" <isaac_mackey@ucsb.edu>', 'receiver': 'unsubscribe+7139442+9530092@unsubscribe.iterable.com', 'date': 1687880965, 'message': 'This message was automatically generated by Gmail.\\r\\n\\r\\n', 'thread_id': '1769897895129774923'}\n"
          ]
        }
      ]
    },
    {
      "cell_type": "markdown",
      "source": [
        "## Clean up sender, receiver, and message"
      ],
      "metadata": {
        "id": "8HbXcFmxa7ZW"
      }
    },
    {
      "cell_type": "code",
      "source": [
        "good_emails = []\n",
        "receiver_names = []\n",
        "sender_names = []\n",
        "\n",
        "for e in emails:\n",
        "    try:\n",
        "        subject = e['subject']\n",
        "        sender = e['sender']\n",
        "        receiver = e['receiver']\n",
        "        date = e['date']\n",
        "        message = e['message']\n",
        "        thread_id = e['thread_id']\n",
        "\n",
        "        # print(subject)\n",
        "        # print(sender)\n",
        "        # print(receiver)\n",
        "        # print(date)\n",
        "        # print(message)\n",
        "        # print()\n",
        "\n",
        "        if not receiver:\n",
        "            continue\n",
        "\n",
        "        sender_name = sender.split('<')[0].strip()\n",
        "        sender_names.append(sender_name)\n",
        "\n",
        "        receiver_name = receiver.split('<')[0].strip()\n",
        "\n",
        "        email_receiver_names = []\n",
        "        for n in receiver.split(','):\n",
        "            if '<' in n:\n",
        "                receiver_names.append(receiver_name)\n",
        "                email_receiver_names.append(receiver_name)\n",
        "            else:\n",
        "                receiver_names.append(n)\n",
        "                email_receiver_names.append(n)\n",
        "\n",
        "        if message:\n",
        "            if '\\nOn' in message:\n",
        "                message = message.split('\\nOn')[0].strip()\n",
        "\n",
        "            email_normalized = message.replace('\\r\\n', '\\n')\n",
        "            lines = email_normalized.split('\\n')\n",
        "\n",
        "            # Check if the last line contains the first or last name to remove sender signature\n",
        "            sender_names = sender_name.split(' ')\n",
        "\n",
        "            last_line = lines[-1] if lines else \"\"\n",
        "\n",
        "            while not last_line and lines:\n",
        "                lines = lines[:-1]  # Remove the last line\n",
        "                last_line = lines[-1] if lines else \"\"\n",
        "\n",
        "            if any([x in last_line for x in sender_names]) and lines:\n",
        "                lines = lines[:-1]  # Remove the last line\n",
        "\n",
        "                last_line = lines[-1] if lines else \"\"\n",
        "\n",
        "                # Check if the last line contains one of the following to remove the parting words\n",
        "                parting_words = [\"Best\", \"Thanks\", \"Sincerely\"]\n",
        "                if any([x in last_line for x in parting_words]) and lines:\n",
        "                    lines = lines[:-1]  # Remove the last line\n",
        "\n",
        "            message = ' '.join(lines)\n",
        "\n",
        "            message = message.replace('  ',' ')\n",
        "\n",
        "            json_message = {\n",
        "              'subject': subject,\n",
        "              'sender': sender_name,\n",
        "              'receiver': receiver_name,\n",
        "              'date': date,\n",
        "              'message': message,\n",
        "              'thread_id': thread_id\n",
        "            }\n",
        "\n",
        "            good_emails.append(json_message)\n",
        "\n",
        "    except Exception as x:\n",
        "        errnum = x.args[0]\n",
        "        print(e)\n",
        "        print(errnum)\n",
        "        print()"
      ],
      "metadata": {
        "id": "fFJ7vVcoPcV0"
      },
      "execution_count": null,
      "outputs": []
    },
    {
      "cell_type": "code",
      "source": [
        "print(len(emails))\n",
        "print(len(good_emails))"
      ],
      "metadata": {
        "colab": {
          "base_uri": "https://localhost:8080/"
        },
        "id": "FTormRy2Ql1C",
        "outputId": "bc41ecc2-77ed-41e8-941b-51e1f0e8b526"
      },
      "execution_count": null,
      "outputs": [
        {
          "output_type": "stream",
          "name": "stdout",
          "text": [
            "2083\n",
            "2082\n"
          ]
        }
      ]
    },
    {
      "cell_type": "markdown",
      "source": [
        "# Group into Threads"
      ],
      "metadata": {
        "id": "BHv458Ikb0_V"
      }
    },
    {
      "cell_type": "code",
      "source": [
        "threads = []\n",
        "\n",
        "for t in thread_ids:\n",
        "    thread = []\n",
        "    for e in good_emails:\n",
        "        if e['thread_id'] == t:\n",
        "            thread.append(e)\n",
        "    thread = sorted(thread, key=lambda x: x['date'])\n",
        "    if thread:\n",
        "        threads.append(thread)"
      ],
      "metadata": {
        "id": "91idoRRT4rQb"
      },
      "execution_count": null,
      "outputs": []
    },
    {
      "cell_type": "code",
      "source": [
        "i = 0\n",
        "limit = 3\n",
        "for t in threads[:10]:\n",
        "    if len(t) < 3:\n",
        "        continue\n",
        "    print(t[0]['subject'])\n",
        "    print(UNIX_timestamp_to_formatted_datetime(t[0]['date']))\n",
        "    for e in t:\n",
        "        print('sender:',e['sender'],',',e['message'])\n",
        "        print()\n",
        "    print()"
      ],
      "metadata": {
        "colab": {
          "base_uri": "https://localhost:8080/"
        },
        "id": "c3OEVKBJ4FDQ",
        "outputId": "83a78ce5-cb7e-4ff3-dd30-338b8efc81b5"
      },
      "execution_count": null,
      "outputs": [
        {
          "output_type": "stream",
          "name": "stdout",
          "text": [
          ]
        }
      ]
    },
    {
      "cell_type": "markdown",
      "source": [
        "## TXT"
      ],
      "metadata": {
        "id": "fWnI5CgqSFzb"
      }
    },
    {
      "cell_type": "code",
      "source": [
        "from datetime import datetime\n",
        "\n",
        "def UNIX_timestamp_to_formatted_datetime(date):\n",
        "    unix_timestamp = int(date)  # Convert to integer and then to seconds\n",
        "    date_time_obj = datetime.utcfromtimestamp(unix_timestamp)\n",
        "    # Format the datetime object as a string\n",
        "    formatted_date = date_time_obj.strftime('%Y-%m-%d %H:%M:%S')\n",
        "    return formatted_date\n",
        "\n",
        "def write_threads_to_txt_file(output_file_path, threads):\n",
        "    if not 'txt' in output_file_path:\n",
        "        print(\"txt not in\",output_file_path)\n",
        "        return\n",
        "\n",
        "    # Writing the output to a text file\n",
        "    with open(output_file_path, 'w') as file:\n",
        "        print(\"writing to output_file_path:\", output_file_path)\n",
        "\n",
        "        num_emails = 0\n",
        "        contacts = []\n",
        "        all_thread_contacts = []\n",
        "        earliest = threads[0][0]['date']\n",
        "        latest = threads[0][0]['date']\n",
        "\n",
        "        for t in threads:\n",
        "            thread_contacts = []\n",
        "            for e in t:\n",
        "                contacts.append(e['sender'])\n",
        "                contacts.append(e['receiver'])\n",
        "                thread_contacts.append(e['sender'])\n",
        "                thread_contacts.append(e['receiver'])\n",
        "                num_emails += 1\n",
        "                message_date = e['date']\n",
        "                if e['date'] < earliest:\n",
        "                    earliest = message_date\n",
        "                if e['date'] > latest:\n",
        "                    latest = message_date\n",
        "            all_thread_contacts.append(list(set(thread_contacts)))\n",
        "\n",
        "        contacts = list(set(contacts))\n",
        "\n",
        "        file.write('Total emails: ' + str(num_emails) + '\\n')\n",
        "        file.write('Contacts found: ' + str(len(contacts)) + '\\n')\n",
        "        file.write('Earliest message: ' + UNIX_timestamp_to_formatted_datetime(earliest) + '\\n')\n",
        "        file.write('Latest message: ' + UNIX_timestamp_to_formatted_datetime(latest) + '\\n')\n",
        "\n",
        "        file.write('\\n')\n",
        "\n",
        "        for i,t in enumerate(threads):\n",
        "            thread_contacts = all_thread_contacts[i]\n",
        "            max_length = max(len(x) for x in thread_contacts)\n",
        "\n",
        "            file.write('Conversation with ' + ', '.join(thread_contacts) + '\\n')\n",
        "            padded_contact_names = {x: x.ljust(max_length) for x in thread_contacts}\n",
        "\n",
        "            file.write(str(len(t)) + \" emails\" + '\\n')\n",
        "\n",
        "            date_sorted_emails = sorted(t, key=lambda x: x['date'])\n",
        "\n",
        "            earliest = date_sorted_emails[0]['date']\n",
        "            latest = date_sorted_emails[-1]['date']\n",
        "\n",
        "            file.write('Earliest message: ' + UNIX_timestamp_to_formatted_datetime(earliest) + '\\n')\n",
        "            file.write('Latest message: ' + UNIX_timestamp_to_formatted_datetime(latest) + '\\n')\n",
        "\n",
        "            # Iterate over messages\n",
        "            for e in t:\n",
        "                # Format the datetime object as a string\n",
        "                formatted_date = UNIX_timestamp_to_formatted_datetime(e['date'])\n",
        "                file.write(formatted_date + \": \" + padded_contact_names[e['sender']] + \": \"+e['message'] + '\\n')\n",
        "            file.write('\\n')\n",
        "\n",
        "    print('File closed')"
      ],
      "metadata": {
        "id": "-4Rnc-zlSEet"
      },
      "execution_count": null,
      "outputs": []
    },
    {
      "cell_type": "code",
      "source": [
        "mbox_name"
      ],
      "metadata": {
        "colab": {
          "base_uri": "https://localhost:8080/",
          "height": 36
        },
        "id": "Wux5BAdgBYua",
        "outputId": "11818077-d7d1-4d7f-ec79-8d890a5d3379"
      },
      "execution_count": null,
      "outputs": [
        {
          "output_type": "execute_result",
          "data": {
            "text/plain": [
              "'in-sent-after-2023-01-01-before-2023-07-01.mbox'"
            ],
            "application/vnd.google.colaboratory.intrinsic+json": {
              "type": "string"
            }
          },
          "metadata": {},
          "execution_count": 19
        }
      ]
    },
    {
      "cell_type": "code",
      "source": [
        "print_current_time()\n",
        "\n",
        "txt_suffix = '-1.txt'\n",
        "txt_name = mbox_name + txt_suffix\n",
        "txt_path = mbox_path + txt_suffix\n",
        "\n",
        "print('txt_path:',txt_path)\n",
        "\n",
        "# Print the number of emails\n",
        "print('Total emails:', len(good_emails))\n",
        "\n",
        "if txt_name in os.listdir('/content/drive/My Drive'):\n",
        "    print(\"File already exists\")\n",
        "else:\n",
        "    write_threads_to_txt_file(txt_path,threads)"
      ],
      "metadata": {
        "colab": {
          "base_uri": "https://localhost:8080/"
        },
        "id": "GsVz-XaqZfI0",
        "outputId": "907a1d59-2508-42c3-a332-c17ed4567dbc"
      },
      "execution_count": null,
      "outputs": [
        {
          "output_type": "stream",
          "name": "stdout",
          "text": [
            "2024-02-29 08:20:31\n",
            "txt_path: /content/drive/My Drive/in-sent-after-2023-01-01-before-2023-07-01.mbox-1.txt\n",
            "Total emails: 2082\n",
            "writing to output_file_path: /content/drive/My Drive/in-sent-after-2023-01-01-before-2023-07-01.mbox-1.txt\n",
            "File closed\n"
          ]
        }
      ]
    },
    {
      "cell_type": "markdown",
      "source": [
        "## Role/System/User/Assistant"
      ],
      "metadata": {
        "id": "wx7E7XGmSB_M"
      }
    },
    {
      "cell_type": "code",
      "source": [
        "def write_threads_to_role_system_user_format_json(output_file_path, threads):\n",
        "    if not 'json' in output_file_path:\n",
        "        print(\"json not in\",output_file_path)\n",
        "        return\n",
        "\n",
        "    # Writing the output to a text file\n",
        "    with open(output_file_path, 'w') as file:\n",
        "        print(\"writing to output_file_path:\", output_file_path)\n",
        "\n",
        "        for t in threads:\n",
        "            if len(t) < 2:\n",
        "                continue\n",
        "\n",
        "            conversation = []\n",
        "\n",
        "            system_message = (\"You are a computer science PhD graduate in the Marine Corps\"\n",
        "                              \" who wants to achieve immortality through mind-uploading.\"\n",
        "                              \" Be polite and formal. Do not apologize. Use correct grammar and avoid logic fallacies.\")\n",
        "            conversation.append({\"role\": \"system\", \"content\": system_message})\n",
        "\n",
        "            assistant_present = False\n",
        "\n",
        "            # Iterate over messages\n",
        "            for e in t:\n",
        "                sender_name = e['sender']\n",
        "\n",
        "                if \"isaac\" in e['sender'].lower():\n",
        "                    role = \"assistant\"\n",
        "                    assistant_present = True\n",
        "                else:\n",
        "                    role = \"user\"\n",
        "                conversation.append({\"role\": role, \"content\": e['message']})\n",
        "\n",
        "                # conversation.append({\"role\": \"separator\", \"content\": \"<END_OF_CONVERSATION>\"})\n",
        "            if assistant_present:\n",
        "                json_record = json.dumps({'messages': conversation})\n",
        "                file.write(json_record + '\\n')"
      ],
      "metadata": {
        "id": "_cZqT6Ha4FF_"
      },
      "execution_count": null,
      "outputs": []
    },
    {
      "cell_type": "code",
      "source": [
        "\"isaac\" in \"Isaac Mackey\".lower()"
      ],
      "metadata": {
        "colab": {
          "base_uri": "https://localhost:8080/"
        },
        "id": "7aM23raYlaM4",
        "outputId": "44e9a957-4345-4d54-a56f-f92510e99343"
      },
      "execution_count": null,
      "outputs": [
        {
          "output_type": "execute_result",
          "data": {
            "text/plain": [
              "True"
            ]
          },
          "metadata": {},
          "execution_count": 1
        }
      ]
    },
    {
      "cell_type": "code",
      "source": [
        "print_current_time()\n",
        "\n",
        "json_suffix = '-5.json'\n",
        "json_file = mbox_name + json_suffix\n",
        "json_path = mbox_path + json_suffix\n",
        "\n",
        "print('json_path:',json_path)\n",
        "\n",
        "# Print the number of emails\n",
        "print('Total emails:', len(good_emails))\n",
        "\n",
        "if json_file in os.listdir('/content/drive/My Drive'):\n",
        "    print(\"File already exists\")\n",
        "else:\n",
        "    write_threads_to_role_system_user_format_json(json_path,threads)"
      ],
      "metadata": {
        "id": "jFohQH-8bt3v",
        "colab": {
          "base_uri": "https://localhost:8080/"
        },
        "outputId": "b94b6806-e153-4170-ffea-707e41012365"
      },
      "execution_count": null,
      "outputs": [
        {
          "output_type": "stream",
          "name": "stdout",
          "text": [
            "2024-01-15 20:06:43\n",
            "json_path: /content/drive/My Drive/in-sent-after-2023-07-01-before-2024-01-12.mbox-5.json\n",
            "Total emails: 1291\n",
            "writing to output_file_path: /content/drive/My Drive/in-sent-after-2023-07-01-before-2024-01-12.mbox-5.json\n"
          ]
        }
      ]
    },
    {
      "cell_type": "markdown",
      "source": [
        "# Dump threads into raw json file for easy recovery"
      ],
      "metadata": {
        "id": "yBmhVUFEyCLe"
      }
    },
    {
      "cell_type": "code",
      "source": [
        "print_current_time()\n",
        "\n",
        "import json\n",
        "\n",
        "# File path where JSON data is saved\n",
        "raw_json_suffix = \"-raw-2.json\"\n",
        "\n",
        "raw_json_file = mbox_name + raw_json_suffix\n",
        "raw_json_path = mbox_path + raw_json_suffix\n",
        "\n",
        "print('raw_json_path:',raw_json_path)\n",
        "\n",
        "if raw_json_file in os.listdir('/content/drive/MyDrive'):\n",
        "    print(\"File already exists found\")\n",
        "else:\n",
        "    with open(raw_json_path, 'w') as file:\n",
        "        json.dump(threads, file)"
      ],
      "metadata": {
        "colab": {
          "base_uri": "https://localhost:8080/"
        },
        "id": "NuFazGmakUgL",
        "outputId": "1a061571-baee-4e2a-b8e0-5ace07b71aad"
      },
      "execution_count": null,
      "outputs": [
        {
          "output_type": "stream",
          "name": "stdout",
          "text": [
            "2024-01-15 20:00:16\n",
            "raw_json_path: /content/drive/My Drive/in-sent-after-2023-07-01-before-2024-01-12.mbox-raw-2.json\n"
          ]
        }
      ]
    },
    {
      "cell_type": "code",
      "source": [
        "raw_json_file = mbox_name + \"-raw-1.json\"\n",
        "raw_json_path = mbox_path + \"-raw-1.json\"\n",
        "\n",
        "print('raw_json_file:',raw_json_file)\n",
        "\n",
        "if not raw_json_file in os.listdir('/content/drive/My Drive'):\n",
        "    print(\"File doesn't exist\")\n",
        "else:\n",
        "    print(\"File found\")\n",
        "    with open(raw_json_path, 'r') as file:\n",
        "        threads_2 = json.load(file)"
      ],
      "metadata": {
        "colab": {
          "base_uri": "https://localhost:8080/"
        },
        "id": "knJ-HfTV6vw1",
        "outputId": "b7e93070-3d6d-44e1-ff98-55a2724876fa"
      },
      "execution_count": null,
      "outputs": [
        {
          "output_type": "stream",
          "name": "stdout",
          "text": [
            "raw_json_file: in-sent-after-2023-07-01-before-2024-01-12.mbox-raw-1.json\n"
          ]
        }
      ]
    },
    {
      "cell_type": "code",
      "source": [
        "print(len(threads))\n",
        "print(len(threads_2))"
      ],
      "metadata": {
        "colab": {
          "base_uri": "https://localhost:8080/"
        },
        "id": "y9STBXZZp2Vq",
        "outputId": "cb91438a-f415-4dc1-9de0-61f7717659e8"
      },
      "execution_count": null,
      "outputs": [
        {
          "output_type": "stream",
          "name": "stdout",
          "text": [
            "79\n",
            "79\n"
          ]
        }
      ]
    },
    {
      "cell_type": "markdown",
      "source": [
        "# OLD CODE"
      ],
      "metadata": {
        "id": "_N2J1ZHmblSl"
      }
    },
    {
      "cell_type": "code",
      "source": [
        "subject_dict = {}\n",
        "for e in good_emails:\n",
        "    subject = e['subject']\n",
        "    sender = e['sender']\n",
        "    receiver = e['receiver']\n",
        "    date = e['date']\n",
        "    message = e['message']\n",
        "\n",
        "    subject = e['subject']\n",
        "    if subject and subject[0].lower() in 'abcdefghijklmnopqrstuvwxyz':\n",
        "        subject = subject.replace(\"Re: \",\"\").replace(\"RE: \",\"\").replace(\"Fwd: \",\"\")\n",
        "        if subject in subject_dict.keys():\n",
        "            subject_dict[subject].append(e)\n",
        "        else:\n",
        "            subject_dict[subject] = [e]\n",
        "\n",
        "common_subjects = []\n",
        "\n",
        "for key,value in subject_dict.items():\n",
        "    # sort by date\n",
        "    if len(value) > 2:\n",
        "        print(key,str(len(value)))\n",
        "        common_subjects.append(key)"
      ],
      "metadata": {
        "id": "KULcbZjfbk-m"
      },
      "execution_count": null,
      "outputs": []
    },
    {
      "cell_type": "code",
      "source": [],
      "metadata": {
        "id": "dLwYwczRbnc_"
      },
      "execution_count": null,
      "outputs": []
    }
  ],
  "metadata": {
    "colab": {
      "provenance": [],
      "authorship_tag": "ABX9TyPBwHTRepD2bZmwWIdNojjy",
      "include_colab_link": true
    },
    "kernelspec": {
      "display_name": "Python 3",
      "name": "python3"
    },
    "language_info": {
      "name": "python"
    }
  },
  "nbformat": 4,
  "nbformat_minor": 0
}
