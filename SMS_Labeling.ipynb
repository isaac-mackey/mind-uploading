{
  "nbformat": 4,
  "nbformat_minor": 0,
  "metadata": {
    "colab": {
      "provenance": [],
      "collapsed_sections": [
        "fIHo5ZLQ6do1",
        "ZjQpeWS0yfPH"
      ],
      "include_colab_link": true
    },
    "kernelspec": {
      "name": "python3",
      "display_name": "Python 3"
    },
    "language_info": {
      "name": "python"
    }
  },
  "cells": [
    {
      "cell_type": "markdown",
      "metadata": {
        "id": "view-in-github",
        "colab_type": "text"
      },
      "source": [
        "<a href=\"https://colab.research.google.com/github/isaac-mackey/mind-uploading/blob/main/SMS_Labeling.ipynb\" target=\"_parent\"><img src=\"https://colab.research.google.com/assets/colab-badge.svg\" alt=\"Open In Colab\"/></a>"
      ]
    },
    {
      "cell_type": "markdown",
      "source": [
        "# Install and configuration"
      ],
      "metadata": {
        "id": "ZO-HgDKvNayF"
      }
    },
    {
      "cell_type": "code",
      "source": [
        "%%capture\n",
        "from google.colab import drive\n",
        "drive.mount('/content/drive')\n",
        "# drive.mount('/content/drive', force_remount=True)\n",
        "# # Save authentication token for future use.\n",
        "# !cp /content/drive/MyDrive/Colab\\ Notebooks/token.json ~/.config/Google/DriveFS/credentials.json\n",
        "\n",
        "!pip install openai\n",
        "from openai import OpenAI\n",
        "import json\n",
        "\n",
        "\n",
        "def show_json(obj):\n",
        "    display(json.loads(obj.model_dump_json()))"
      ],
      "metadata": {
        "id": "x6-L2du2ah7n"
      },
      "execution_count": null,
      "outputs": []
    },
    {
      "cell_type": "markdown",
      "source": [
        "## Load SMS from raw JSON"
      ],
      "metadata": {
        "id": "fIHo5ZLQ6do1"
      }
    },
    {
      "cell_type": "code",
      "source": [
        "!pip install lxml\n",
        "from lxml import etree\n",
        "\n",
        "def raw_extract_sms_from_xml(file_name):\n",
        "    sms_messages = []\n",
        "    sent_messages = []\n",
        "    contacts = {}\n",
        "\n",
        "    # Create an iterative parser\n",
        "    context = etree.iterparse(file_name, events=(\"end\",), tag=\"sms\")\n",
        "\n",
        "    for event, elem in context:\n",
        "        # Extract SMS data\n",
        "        sms_data = {\n",
        "            'address': elem.get('address'),\n",
        "            'date': elem.get('date'),\n",
        "            'type': elem.get('type'),\n",
        "            'body': elem.get('body'),\n",
        "            'contact_name': elem.get('contact_name')\n",
        "        }\n",
        "        sms_messages.append(sms_data)\n",
        "\n",
        "        # Only sent messages\n",
        "        # if sms_data['type'] == '2':\n",
        "        #     sent_messages.append(sms_data)\n",
        "\n",
        "        # Update contacts dictionary\n",
        "        contact_name = sms_data['contact_name']\n",
        "        if contact_name not in contacts:\n",
        "            contacts[contact_name] = {\n",
        "                'address': sms_data['address'],\n",
        "                'messages': [],\n",
        "                'contact_name': sms_data['contact_name']\n",
        "            }\n",
        "        contacts[contact_name]['messages'].append(sms_data)\n",
        "\n",
        "        # Clear the element to free up memory\n",
        "        elem.clear()\n",
        "\n",
        "        # Also eliminate now-empty references from the root node to <sms>\n",
        "        while elem.getprevious() is not None:\n",
        "            del elem.getparent()[0]\n",
        "\n",
        "    # Close the context to free resources\n",
        "    del context\n",
        "\n",
        "    return sms_messages, sent_messages, contacts"
      ],
      "metadata": {
        "colab": {
          "base_uri": "https://localhost:8080/"
        },
        "id": "yjs5k48S6hgi",
        "outputId": "7d8fe270-d6a8-4925-ec31-48efe7a04d76"
      },
      "execution_count": null,
      "outputs": [
        {
          "output_type": "stream",
          "name": "stdout",
          "text": [
            "Requirement already satisfied: lxml in /usr/local/lib/python3.10/dist-packages (4.9.4)\n"
          ]
        }
      ]
    },
    {
      "cell_type": "code",
      "source": [
        "from datetime import datetime\n",
        "# Format the current date and time in a human-readable format\n",
        "print(datetime.now().strftime(\"%Y-%m-%d %H:%M:%S\"))\n",
        "\n",
        "# Replace with the latest filename\n",
        "input_file_name = 'sms-20210904143609.xml'\n",
        "print('input_file_name:',input_file_name)\n",
        "\n",
        "input_file_path = '/content/drive/My Drive/'+input_file_name\n",
        "print('input_file_path:',input_file_path)\n",
        "\n",
        "# Extract contents of input file\n",
        "sms_messages, sent_messages, contacts = raw_extract_sms_from_xml(input_file_path)\n",
        "\n",
        "print('Total SMS messages:', len(sms_messages))\n",
        "# print('Sent SMS messages:', len(sent_messages))\n",
        "print('Contacts found:', len(contacts))\n",
        "\n",
        "input_file_name_2 = 'sms-20231224020008.xml'\n",
        "print('input_file_name:',input_file_name_2)\n",
        "\n",
        "input_file_path_2 = '/content/drive/My Drive/'+input_file_name_2\n",
        "print('input_file_path:',input_file_path_2)\n",
        "\n",
        "# Extract contents of input file\n",
        "sms_messages_2, sent_messages_2, contacts_2 = raw_extract_sms_from_xml(input_file_path_2)\n",
        "\n",
        "# Print the lengths of the lists\n",
        "print('Total SMS messages:', len(sms_messages_2))\n",
        "# print('Sent SMS messages:', len(sent_messages))\n",
        "print('Contacts found:', len(contacts_2))\n",
        "\n",
        "print()\n",
        "print(\"combined\")\n",
        "combined_sms_messages = sms_messages + sms_messages_2\n",
        "\n",
        "print('Total SMS messages:', len(combined_sms_messages))\n",
        "# print('Sent SMS messages:', len(sent_messages))\n",
        "\n",
        "contacts = list(set(contacts.keys() + contacts_2.keys()))\n",
        "print('Contacts found:', len(contacts))"
      ],
      "metadata": {
        "id": "FYrLHp8i6pSI"
      },
      "execution_count": null,
      "outputs": []
    },
    {
      "cell_type": "code",
      "source": [
        "len(list(set(list(contacts.keys()) + list(contacts_2.keys()))))"
      ],
      "metadata": {
        "colab": {
          "base_uri": "https://localhost:8080/"
        },
        "id": "AbELZwBu8Bne",
        "outputId": "17395c1b-cbad-4dcb-ea24-32bacc335202"
      },
      "execution_count": null,
      "outputs": [
        {
          "output_type": "execute_result",
          "data": {
            "text/plain": [
              "197"
            ]
          },
          "metadata": {},
          "execution_count": 9
        }
      ]
    },
    {
      "cell_type": "code",
      "source": [
        "# for c in contacts.keys():\n",
        "#     print(c)\n",
        "#     print(contacts[c]['contact_name'])\n",
        "\n",
        "combined_contacts = {}\n",
        "for c in contacts.keys():\n",
        "    if c in contacts_2.keys():\n",
        "        contact_name = contacts[c]['contact_name']\n",
        "        combined_contacts[contact_name] = {\n",
        "            'address': contacts[c]['address'],\n",
        "            'messages': contacts[c]['messages'] + contacts_2[c]['messages'],\n",
        "            'contact_name': contact_name\n",
        "        }\n",
        "    else:\n",
        "        contact_name = contacts[c]['contact_name']\n",
        "        combined_contacts[contact_name] = contacts[c]\n",
        "for c in contacts_2.keys():\n",
        "    if c not in contacts.keys():\n",
        "        contact_name = contacts_2[c]['contact_name']\n",
        "        combined_contacts[contact_name] = contacts_2[c]\n",
        "\n",
        "# for c in sorted(combined_contacts.keys()):\n",
        "#     print(c)"
      ],
      "metadata": {
        "id": "_eqg5TWA7w5X"
      },
      "execution_count": null,
      "outputs": []
    },
    {
      "cell_type": "code",
      "source": [
        "type(combined_sms_messages)"
      ],
      "metadata": {
        "colab": {
          "base_uri": "https://localhost:8080/"
        },
        "id": "rc-YyiaC9Itj",
        "outputId": "ca405a87-47b2-49bf-be50-54c6232bb78e"
      },
      "execution_count": null,
      "outputs": [
        {
          "output_type": "execute_result",
          "data": {
            "text/plain": [
              "list"
            ]
          },
          "metadata": {},
          "execution_count": 11
        }
      ]
    },
    {
      "cell_type": "code",
      "source": [
        "combined_sms_messages[107]"
      ],
      "metadata": {
        "colab": {
          "base_uri": "https://localhost:8080/"
        },
        "id": "Toqh_W-J9OaW",
        "outputId": "929e7c1c-9b64-4c3d-c5d4-49c103dc155c"
      },
      "execution_count": null,
      "outputs": [
        {
          "output_type": "execute_result",
          "data": {
            "text/plain": [
              "{'address': '9158677121',\n",
              " 'date': '1597246984712',\n",
              " 'type': '2',\n",
              " 'body': \"I'm outside 302, could you let me in?\",\n",
              " 'contact_name': 'Andy Vargas'}"
            ]
          },
          "metadata": {},
          "execution_count": 19
        }
      ]
    },
    {
      "cell_type": "code",
      "source": [
        "type(combined_contacts)"
      ],
      "metadata": {
        "colab": {
          "base_uri": "https://localhost:8080/"
        },
        "id": "R6euHyRv9f7q",
        "outputId": "936078dc-d760-439d-acbe-8c35ff8a4edf"
      },
      "execution_count": null,
      "outputs": [
        {
          "output_type": "execute_result",
          "data": {
            "text/plain": [
              "dict"
            ]
          },
          "metadata": {},
          "execution_count": 20
        }
      ]
    },
    {
      "cell_type": "code",
      "source": [
        "print(combined_contacts['Nick Grubb'].keys())"
      ],
      "metadata": {
        "colab": {
          "base_uri": "https://localhost:8080/"
        },
        "id": "QgQw9AhC9iMw",
        "outputId": "1d873a89-efa0-49ff-839b-0399ff11d6f5"
      },
      "execution_count": null,
      "outputs": [
        {
          "output_type": "stream",
          "name": "stdout",
          "text": [
            "dict_keys(['address', 'messages', 'contact_name'])\n"
          ]
        }
      ]
    },
    {
      "cell_type": "markdown",
      "source": [
        "## Save contacts json to Drive"
      ],
      "metadata": {
        "id": "ZjQpeWS0yfPH"
      }
    },
    {
      "cell_type": "code",
      "source": [
        "import json\n",
        "\n",
        "# Convert the dictionary to a JSON string\n",
        "json_string = json.dumps(combined_contacts)\n",
        "\n",
        "# Save the JSON string to a file in Google Drive\n",
        "with open('/content/drive/MyDrive/combined_contacts-2024-04-07.json', 'w') as outfile:\n",
        "    json.dump(json_string, outfile)"
      ],
      "metadata": {
        "id": "5KNWVexj-bGi"
      },
      "execution_count": null,
      "outputs": []
    },
    {
      "cell_type": "markdown",
      "source": [
        "## Open saved contacts json into dictionary"
      ],
      "metadata": {
        "id": "oN5D-QtfyUcN"
      }
    },
    {
      "cell_type": "code",
      "source": [
        "with open('/content/drive/MyDrive/combined_contacts-2024-04-07.json', 'r') as infile:\n",
        "    combined_contacts = json.load(infile)\n",
        "contacts = eval(combined_contacts)"
      ],
      "metadata": {
        "id": "s0ZMOIz0yMEV"
      },
      "execution_count": null,
      "outputs": []
    },
    {
      "cell_type": "code",
      "source": [
        "print(type(contacts))"
      ],
      "metadata": {
        "colab": {
          "base_uri": "https://localhost:8080/"
        },
        "id": "Q9-lZc37zp14",
        "outputId": "4c823688-7b5e-42bd-bf94-7507e16a6aba"
      },
      "execution_count": null,
      "outputs": [
        {
          "output_type": "stream",
          "name": "stdout",
          "text": [
            "<class 'dict'>\n"
          ]
        }
      ]
    },
    {
      "cell_type": "code",
      "source": [
        "i = 0\n",
        "for x in contacts.items():\n",
        "    print(x)\n",
        "    i += 1\n",
        "    if i == 5:\n",
        "        break"
      ],
      "metadata": {
        "id": "9eEQxAhSypa9"
      },
      "execution_count": null,
      "outputs": []
    },
    {
      "cell_type": "code",
      "source": [
        "from datetime import datetime\n",
        "\n",
        "def UNIX_timestamp_to_formatted_datetime(date):\n",
        "    unix_timestamp = int(date) / 1000  # Convert to integer and then to seconds\n",
        "    date_time_obj = datetime.utcfromtimestamp(unix_timestamp)\n",
        "    # Format the datetime object as a string\n",
        "    formatted_date = date_time_obj.strftime('%Y-%m-%d %H:%M:%S')\n",
        "    return formatted_date\n",
        "\n",
        "contact_date_dict = {c:{} for c in contacts}\n",
        "\n",
        "#def chunk_by_contact_date(output_file_path, sms_messages, contacts):\n",
        "i = 0\n",
        "for contact in contacts.values():\n",
        "    i += 1\n",
        "    # if i == 4:\n",
        "    #     break\n",
        "    if contact['contact_name'] == '(Unknown)':\n",
        "        continue\n",
        "    contact_name = contact['contact_name']\n",
        "    print(contact_name)\n",
        "    my_name = \"Isaac Mackey\"\n",
        "\n",
        "    date_sorted_messages = sorted(contact['messages'], key=lambda x: x['date'])\n",
        "\n",
        "    this_contact_date_dict = {}\n",
        "\n",
        "    for message in date_sorted_messages:\n",
        "\n",
        "        # Convert UNIX timestamp to datetime object\n",
        "        unix_timestamp = int(message['date']) / 1000  # Convert to integer and then to seconds\n",
        "        date_time_obj = datetime.utcfromtimestamp(unix_timestamp)\n",
        "        # Format the datetime object as a string\n",
        "        formatted_date = date_time_obj.strftime('%Y-%m-%d')\n",
        "\n",
        "        # print(formatted_date)\n",
        "\n",
        "        if formatted_date not in this_contact_date_dict:\n",
        "            this_contact_date_dict[formatted_date] = []\n",
        "        # Add the message to the list for that date.\n",
        "        this_contact_date_dict[formatted_date].append(message)\n",
        "\n",
        "    contact_date_dict[contact_name] = this_contact_date_dict\n",
        "        # if message['type'] == '1':\n",
        "        #     file.write(formatted_date + \": \" + contact_name + \": \"+message['body'] + '\\n')\n",
        "        # if message['type'] == '2':\n",
        "        #     file.write(formatted_date + \": \" + my_name + \": \" + message['body'] + '\\n')"
      ],
      "metadata": {
        "id": "oz8ZOSY-8Q5V"
      },
      "execution_count": null,
      "outputs": []
    },
    {
      "cell_type": "code",
      "source": [
        "contact_date_dict['Jonathan Harrison']['2020-08-05']"
      ],
      "metadata": {
        "id": "rSM27Sb7B6KP"
      },
      "execution_count": null,
      "outputs": []
    },
    {
      "cell_type": "code",
      "source": [
        "conversations = []\n",
        "for contact_name in contact_date_dict.keys():\n",
        "    for date in contact_date_dict[contact_name].keys():\n",
        "        conversation = {}\n",
        "        conversation['contact_name'] = contact_name\n",
        "        conversation['date'] = date\n",
        "        messages = contact_date_dict[contact_name][date]\n",
        "        conversation['content'] = '. '.join(x['body'] for x in messages)\n",
        "        conversations.append(conversation)"
      ],
      "metadata": {
        "id": "s3dJcBUv-_nw"
      },
      "execution_count": null,
      "outputs": []
    },
    {
      "cell_type": "code",
      "source": [
        "print(\"len(conversations)\",str(len(conversations)))\n",
        "print(conversations[0])"
      ],
      "metadata": {
        "id": "MePnDkII_616"
      },
      "execution_count": null,
      "outputs": []
    },
    {
      "cell_type": "code",
      "source": [
        "all_dates = []\n",
        "for contact_name in contact_date_dict.keys():\n",
        "    for date in contact_date_dict[contact_name].keys():\n",
        "        if date not in all_dates:\n",
        "            all_dates.append(date)\n",
        "    #print(f'{contact_name}: {str(len(contact_date_dict[contact_name].keys()))}')\n",
        "\n",
        "contact_unique_days = [(contact_name,len(contact_date_dict[contact_name].keys())) for contact_name in contact_date_dict.keys()]\n",
        "sorted_contact_unique_days = sorted(contact_unique_days, key=lambda x: x[1])\n",
        "sorted_contact_unique_days.reverse()\n",
        "print(\"Contact Name and Number of Days I've Texted Them From August 2020 to December 2023\")\n",
        "for x in sorted_contact_unique_days:\n",
        "    print(x)"
      ],
      "metadata": {
        "id": "ExogS61f4t5R"
      },
      "execution_count": null,
      "outputs": []
    },
    {
      "cell_type": "markdown",
      "source": [
        "## SMS labeling (without function tools)"
      ],
      "metadata": {
        "id": "jGg5dUaNOyl8"
      }
    },
    {
      "cell_type": "code",
      "source": [
        "pure_system_message = \"You are an assistant that identifies and extracts keywords of relevance from text message conversations.\"\n",
        "\n",
        "my_assistant = client.beta.assistants.create(\n",
        "    instructions=pure_system_message,\n",
        "    name=\"Diary Entry Labeling Assistant\",\n",
        "    tools=[],\n",
        "    model='gpt-3.5-turbo-1106',\n",
        "    #model=\"gpt-4-turbo-preview\",\n",
        "    file_ids= [] #[files_to_retrieve]\n",
        ")"
      ],
      "metadata": {
        "id": "dEGHSLRkOwGz"
      },
      "execution_count": null,
      "outputs": []
    },
    {
      "cell_type": "code",
      "source": [
        "import time\n",
        "import random\n",
        "\n",
        "def wait_on_run(run, thread):\n",
        "    print(\"wait on run\")\n",
        "    # show_json(run)\n",
        "    while run.status == \"queued\" or run.status == \"in_progress\":\n",
        "        run = client.beta.threads.runs.retrieve(\n",
        "            thread_id=thread.id,\n",
        "            run_id=run.id,\n",
        "        )\n",
        "        time.sleep(0.5)\n",
        "    return run\n",
        "\n",
        "created_conversation_labels = {}\n",
        "\n",
        "i = 0\n",
        "\n",
        "for conversation in conversations:\n",
        "    print('i:',str(i),'out of',str(len(conversations)))\n",
        "    i += 1\n",
        "    # if i == 4:\n",
        "    #     break\n",
        "    contact_name = conversation['contact_name']\n",
        "    date = conversation['date']\n",
        "    content = conversation['content']\n",
        "\n",
        "    thread = client.beta.threads.create()\n",
        "    # show_json(thread)\n",
        "\n",
        "    content = \"Return a Python list of a few keywords that could identify or classify the following conversation: \"+content\n",
        "\n",
        "    # print(content)\n",
        "\n",
        "    message = client.beta.threads.messages.create(\n",
        "        thread_id=thread.id,\n",
        "        role=\"user\",\n",
        "        content=content,\n",
        "        file_ids=[] #files_to_retrieve\n",
        "    )\n",
        "    # show_json(message)\n",
        "\n",
        "    run = client.beta.threads.runs.create(\n",
        "    thread_id=thread.id,\n",
        "    assistant_id=my_assistant.id\n",
        "    )\n",
        "\n",
        "    run = wait_on_run(run, thread)\n",
        "\n",
        "    if run.status == 'completed' or run.status == 'requires_action':\n",
        "      messages = client.beta.threads.messages.list(\n",
        "        thread_id=thread.id\n",
        "      )\n",
        "      # show_json(messages)\n",
        "      m = []\n",
        "      for y in messages:\n",
        "          # print(y)\n",
        "          m.append(y)\n",
        "      m.reverse()\n",
        "\n",
        "      answer = \"\"\n",
        "      for x in m:\n",
        "          if x.assistant_id:\n",
        "              answer += ' '+x.content[0].text.value\n",
        "      if contact_name not in created_conversation_labels:\n",
        "          created_conversation_labels[contact_name] = {}\n",
        "      created_conversation_labels[contact_name][date] = answer\n",
        "    else:\n",
        "      print(\"run.status\")\n",
        "      print(run.status)"
      ],
      "metadata": {
        "id": "hvv7GkUCO9aV"
      },
      "execution_count": null,
      "outputs": []
    },
    {
      "cell_type": "markdown",
      "source": [
        "2024-04-08: 2790 out of 5191"
      ],
      "metadata": {
        "id": "lznoNbngJUK0"
      }
    },
    {
      "cell_type": "markdown",
      "source": [
        "## Save labels"
      ],
      "metadata": {
        "id": "FwvsD1IIO_bK"
      }
    },
    {
      "cell_type": "code",
      "source": [
        "dict_name = \"contact-dates-labels-json-gpt3-sms-1\"\n",
        "\n",
        "import datetime\n",
        "eastern_now_str = datetime.datetime.utcnow().astimezone(datetime.timezone(datetime.timedelta(hours=-4))).strftime(\"%Y_%m_%d_%H:%M:%S\")\n",
        "conversation_date = eastern_now_str\n",
        "\n",
        "# Create the file name.\n",
        "file_name = f\"{dict_name}_{conversation_date}\"\n",
        "\n",
        "print('json file_name',file_name)\n",
        "\n",
        "import json\n",
        "\n",
        "json_string = json.dumps(created_conversation_labels)\n",
        "\n",
        "# Save the JSON string to a file in Google Drive.\n",
        "with open(f\"/content/drive/My Drive/SMS Chatbot/{file_name}.json\", \"w\") as f:\n",
        "    f.write(json_string)"
      ],
      "metadata": {
        "id": "L4C_0pM1-jem"
      },
      "execution_count": null,
      "outputs": []
    },
    {
      "cell_type": "markdown",
      "source": [
        "## Load label dictionary from saved json file"
      ],
      "metadata": {
        "id": "3A6O2Cu6GVq_"
      }
    },
    {
      "cell_type": "code",
      "source": [
        "# prompt: Load a dictionary from the json file above\n",
        "\n",
        "file_name = \"contact-dates-labels-json-gpt3-sms-1_2024_04_08_10:38:22.json\"\n",
        "\n",
        "import json\n",
        "\n",
        "with open(f\"/content/drive/My Drive/SMS Chatbot/{file_name}\", \"r\") as f:\n",
        "    created_conversation_labels = json.load(f)"
      ],
      "metadata": {
        "id": "UCoX-vyP2Ftn"
      },
      "execution_count": null,
      "outputs": []
    },
    {
      "cell_type": "code",
      "source": [
        "import re\n",
        "\n",
        "def extract_keywords_numbered(text):\n",
        "    # Use regular expression to find the lines containing keywords\n",
        "    keyword_lines = re.findall(r'\\d+\\.\\s+(.*)', text)\n",
        "\n",
        "    # Extract keywords from the lines\n",
        "    keywords = [line.strip() for line in keyword_lines]\n",
        "\n",
        "    return keywords\n",
        "\n",
        "def extract_keywords_dashed(text):\n",
        "    # Use regular expression to find the lines containing keywords\n",
        "    keyword_lines = re.findall(r'-\\s*(.*)', text)\n",
        "\n",
        "    # Extract keywords from the lines\n",
        "    keywords = [line.strip() for line in keyword_lines]\n",
        "\n",
        "    return keywords\n",
        "\n",
        "def extract_keywords_quotes(text):\n",
        "\n",
        "    keyword_lines = re.findall(r\"'(\\w+)'\", text)\n",
        "\n",
        "    # Extract keywords from the lines\n",
        "    keywords = [line.strip() for line in keyword_lines]\n",
        "\n",
        "    return keywords\n",
        "\n",
        "def extract_keywords_brackets(text):\n",
        "\n",
        "    keyword_lines = re.findall(r\"[\\w']+|[.,!?;]\", text)\n",
        "\n",
        "    # Extract keywords from the lines\n",
        "    keywords = [line.strip() for line in keyword_lines]\n",
        "\n",
        "    return keywords\n",
        "\n",
        "def extract_keywords(text):\n",
        "    keyword_functions = [extract_keywords_numbered, extract_keywords_dashed, extract_keywords_quotes, extract_keywords_brackets]\n",
        "\n",
        "    for func in keyword_functions:\n",
        "        try:\n",
        "            keywords = func(text)\n",
        "            if keywords:\n",
        "                forbidden_keywords = [\"I'm\", \"conversation\", \"keywords\", \"Keywords\", \",\"]\n",
        "                forbidden_keywords_present = False\n",
        "                for f in forbidden_keywords:\n",
        "                    if f in keywords:\n",
        "                        forbidden_keywords_present = True\n",
        "                        break\n",
        "                if not forbidden_keywords_present:\n",
        "                    return keywords\n",
        "        except Exception as e:\n",
        "            #print(f\"An error occurred: {e}\")\n",
        "            pass\n",
        "\n",
        "    return []\n",
        "\n",
        "# Example usage\n",
        "entry = \"\"\"2011/07/01 (Friday)\n",
        "Based on the provided diary entry, the following keywords could be used to identify or classify the entry:\n",
        "\n",
        "1. Cycling\n",
        "2. Adventure\n",
        "3. Railroad tracks\n",
        "4. Mile-long straight aways\n",
        "5. Bonding\n",
        "6. Gas station\n",
        "7. Parenting\n",
        "8. Rules\n",
        "9. Mistakes\n",
        "10. Disappearance\n",
        "11. Responsibility\n",
        "12. Death\"\"\"\n",
        "\n",
        "keywords = extract_keywords_numbered(entry)\n",
        "print(keywords)"
      ],
      "metadata": {
        "id": "ONOF4bHR86fn"
      },
      "execution_count": null,
      "outputs": []
    },
    {
      "cell_type": "code",
      "source": [
        "list_label_dict = {}\n",
        "i = 4\n",
        "for x in created_conversation_labels.keys():\n",
        "    # print(x)\n",
        "    list_label_dict[x] = {}\n",
        "    for y in created_conversation_labels[x]:\n",
        "        # print(y)\n",
        "        # print(created_conversation_labels[x][y])\n",
        "        list_label_dict[x][y] = extract_keywords(created_conversation_labels[x][y])[:6]\n",
        "        i += 1\n",
        "        if i == 3:\n",
        "            break\n",
        "    i += 1\n",
        "    if i == 3:\n",
        "        break"
      ],
      "metadata": {
        "id": "i08MgNKpF5Xs"
      },
      "execution_count": null,
      "outputs": []
    },
    {
      "cell_type": "code",
      "source": [
        "# prompt: in created_conversation_labels, count the number of empty lists and non-list entries\n",
        "\n",
        "empty_lists = 0\n",
        "non_lists = 0\n",
        "for contact_name, dates in list_label_dict.items():\n",
        "    for date, labels in dates.items():\n",
        "        if type(labels) == list and len(labels) == 0:\n",
        "            empty_lists += 1\n",
        "        elif not isinstance(labels, list):\n",
        "            non_lists += 1\n",
        "\n",
        "print(\"Number of empty lists:\", empty_lists)\n",
        "print(\"Number of non-list entries:\", non_lists)"
      ],
      "metadata": {
        "id": "ggr1SUX19hV1"
      },
      "execution_count": null,
      "outputs": []
    },
    {
      "cell_type": "code",
      "source": [
        "# prompt: print the first 10 dates with empty lists\n",
        "\n",
        "# Print the first 10 dates with empty lists\n",
        "empty_list_dates = []\n",
        "for contact_name, dates in list_label_dict.items():\n",
        "    for date, labels in dates.items():\n",
        "        if type(labels) == list and len(labels) == 0:\n",
        "            empty_list_dates.append((contact_name,date))\n",
        "            if len(empty_list_dates) == 10:\n",
        "                break\n",
        "    if len(empty_list_dates) == 10:\n",
        "        break\n",
        "\n",
        "print(\"First 10 dates with empty lists:\")\n",
        "for contact_name,date in empty_list_dates:\n",
        "    print(contact_name,date)"
      ],
      "metadata": {
        "id": "CibqtALg9uVG"
      },
      "execution_count": null,
      "outputs": []
    },
    {
      "cell_type": "code",
      "source": [
        "print(list_label_dict['Jonathan Harrison']['2022-05-30'])\n",
        "\n",
        "y = list_label_dict['Jonathan Harrison']['2021-05-28']\n",
        "\n",
        "print(y)\n",
        "\n",
        "for x in ['2020-09-30', '2020-10-01', '2020-10-04']:\n",
        "    print(list_label_dict['Jonathan Harrison'][x])"
      ],
      "metadata": {
        "id": "TpiAyjYF48ql"
      },
      "execution_count": null,
      "outputs": []
    },
    {
      "cell_type": "code",
      "source": [
        "# prompt: determine the most common labels in the double dictionary list_label_dict\n",
        "\n",
        "from collections import Counter\n",
        "\n",
        "# Initialize an empty Counter object\n",
        "counter = Counter()\n",
        "\n",
        "# Loop through the dictionary\n",
        "for contact_name, dates in list_label_dict.items():\n",
        "    for date, labels in dates.items():\n",
        "        # Update the counter with the current labels\n",
        "        counter.update(labels)\n",
        "\n",
        "# Get the most common labels\n",
        "most_common_labels = counter.most_common(10)\n",
        "\n",
        "# Print the most common labels\n",
        "for label, count in most_common_labels:\n",
        "    print(f\"{label}: {count}\")"
      ],
      "metadata": {
        "colab": {
          "base_uri": "https://localhost:8080/"
        },
        "id": "2wuajp4TD-Bp",
        "outputId": "8497ee8c-0053-4ed1-956f-304c8febd9c7"
      },
      "execution_count": null,
      "outputs": [
        {
          "output_type": "stream",
          "name": "stdout",
          "text": [
            "Seattle: 43\n",
            "Tomorrow: 41\n",
            "Santa Barbara: 34\n",
            "Call: 32\n",
            "Zoom: 32\n",
            "Time: 29\n",
            "Thanks: 28\n",
            "Chat: 28\n",
            "Email: 27\n",
            "Weekend: 27\n"
          ]
        }
      ]
    },
    {
      "cell_type": "code",
      "source": [
        "# prompt: map each label to the date and contact that has that label\n",
        "\n",
        "label_to_date_contact = {}\n",
        "\n",
        "for contact_name, dates in list_label_dict.items():\n",
        "    for date, labels in dates.items():\n",
        "        for label in labels:\n",
        "            if label not in label_to_date_contact:\n",
        "                label_to_date_contact[label] = []\n",
        "            label_to_date_contact[label].append((contact_name, date))\n",
        "\n",
        "i = 0\n",
        "# Print the first 10 entries of the dictionary\n",
        "for label, date_contacts in label_to_date_contact.items():\n",
        "    print(f\"{label}:\")\n",
        "    i += 1\n",
        "    for contact_name, date in date_contacts[:10]:\n",
        "        print(f\"  - {contact_name}: {date}\")\n",
        "    print()\n",
        "    if i == 5:\n",
        "        break"
      ],
      "metadata": {
        "id": "PX5v3S-FE9D_"
      },
      "execution_count": null,
      "outputs": []
    },
    {
      "cell_type": "code",
      "source": [
        "label_to_date_contact['Watermaker']"
      ],
      "metadata": {
        "colab": {
          "base_uri": "https://localhost:8080/"
        },
        "id": "jaLJp6uHFNxh",
        "outputId": "6db3958b-85ca-46a3-9432-c4dbe7f1af7e"
      },
      "execution_count": null,
      "outputs": [
        {
          "output_type": "execute_result",
          "data": {
            "text/plain": [
              "[('Jonathan Harrison', '2020-08-04')]"
            ]
          },
          "metadata": {},
          "execution_count": 102
        }
      ]
    },
    {
      "cell_type": "markdown",
      "source": [
        "## Save label_to_date_contact to Google Drive"
      ],
      "metadata": {
        "id": "OQyU25nnFoGa"
      }
    },
    {
      "cell_type": "code",
      "source": [
        "import json\n",
        "\n",
        "# Convert the dictionary to a JSON string\n",
        "json_string = json.dumps(label_to_date_contact)\n",
        "\n",
        "# Save the JSON string to a file in Google Drive\n",
        "with open('/content/drive/MyDrive/SMS Chatbot/label_to_date_contact-2024-04-08.json', 'w') as outfile:\n",
        "    outfile.write(json_string)"
      ],
      "metadata": {
        "id": "IdSic1OUFVgV"
      },
      "execution_count": null,
      "outputs": []
    },
    {
      "cell_type": "markdown",
      "source": [
        "## Load label_to_dates dict"
      ],
      "metadata": {
        "id": "1fR64VYZZKQf"
      }
    },
    {
      "cell_type": "code",
      "source": [
        "with open('/content/drive/MyDrive/SMS Chatbot/label_to_date_contact-2024-04-08.json', 'r') as f:\n",
        "  loaded_label_to_date_contact = json.load(f)"
      ],
      "metadata": {
        "id": "UbCQKfXKZMpk"
      },
      "execution_count": null,
      "outputs": []
    },
    {
      "cell_type": "code",
      "source": [
        "loaded_label_to_date_contact['Marines']"
      ],
      "metadata": {
        "id": "65pJhQO1Fz9R"
      },
      "execution_count": null,
      "outputs": []
    },
    {
      "cell_type": "markdown",
      "source": [
        "## Print and search labels"
      ],
      "metadata": {
        "id": "_xKa9L4NZpIB"
      }
    },
    {
      "cell_type": "code",
      "source": [
        "# prompt: print the top k labels with the most dates in their entry in label_to_date_dict\n",
        "\n",
        "# First, we need to count the number of dates associated with each label.\n",
        "label_counts = {}\n",
        "for label, dates in loaded_label_to_date_contact.items():\n",
        "    label_counts[label] = len(dates)\n",
        "\n",
        "# Then, we can sort the labels by their counts in descending order.\n",
        "sorted_labels = sorted(label_counts, key=label_counts.get, reverse=True)\n",
        "\n",
        "# Finally, we can print the top k labels with the most dates.\n",
        "k = 20  # Change this value to adjust the number of labels to print.\n",
        "for label in sorted_labels[:k]:\n",
        "    print(f\"Label: {label}, Dates: {label_counts[label]}\")"
      ],
      "metadata": {
        "colab": {
          "base_uri": "https://localhost:8080/"
        },
        "id": "bu1bQF1tTuL7",
        "outputId": "7b630d64-b025-415e-abcb-0ee6f850e3f3"
      },
      "execution_count": null,
      "outputs": [
        {
          "output_type": "stream",
          "name": "stdout",
          "text": [
            "Label: Seattle, Dates: 43\n",
            "Label: Tomorrow, Dates: 41\n",
            "Label: Santa Barbara, Dates: 34\n",
            "Label: Call, Dates: 32\n",
            "Label: Zoom, Dates: 32\n",
            "Label: Time, Dates: 29\n",
            "Label: Thanks, Dates: 28\n",
            "Label: Chat, Dates: 28\n",
            "Label: Email, Dates: 27\n",
            "Label: Weekend, Dates: 27\n",
            "Label: Thursday, Dates: 25\n",
            "Label: Isaac, Dates: 25\n",
            "Label: Address, Dates: 25\n",
            "Label: Wednesday, Dates: 24\n",
            "Label: Sunday, Dates: 24\n",
            "Label: Rowing, Dates: 22\n",
            "Label: Dinner, Dates: 22\n",
            "Label: tomorrow, Dates: 21\n",
            "Label: California, Dates: 21\n",
            "Label: YouTube, Dates: 21\n"
          ]
        }
      ]
    },
    {
      "cell_type": "code",
      "source": [
        "def remove_duplicates(list_of_pairs):\n",
        "  unique_pairs = set()\n",
        "  for pair in list_of_pairs:\n",
        "    tuple_pair = tuple(pair)\n",
        "    if tuple_pair not in unique_pairs:\n",
        "      unique_pairs.add(tuple_pair)\n",
        "  return list(unique_pairs)\n",
        "\n",
        "import random\n",
        "\n",
        "keyword = \"start\"\n",
        "keyword_list = []\n",
        "\n",
        "top_k = 10\n",
        "random_k = 10\n",
        "\n",
        "for label in random.sample(sorted_labels[:top_k*3], top_k) + random.sample(sorted_labels, random_k):\n",
        "    print(f\"Label: {label}, Dates: {label_counts[label]}\")\n",
        "\n",
        "while keyword != \"\":\n",
        "    print(\"\\nEnter a keyword to get the related journal entries: (enter blank to stop)\")\n",
        "    keyword = input()\n",
        "    try:\n",
        "        print(\"You entered: \", keyword,',',str(len(loaded_label_to_date_contact[keyword])),'entries')\n",
        "    except KeyError:\n",
        "        print(\"You entered: \", keyword,', 0 entries')\n",
        "    keyword_list.append(keyword)\n",
        "\n",
        "contacts_dates_selected = []\n",
        "\n",
        "for keyword in keyword_list:\n",
        "    if keyword in loaded_label_to_date_contact:\n",
        "        for date_contact_pairs in loaded_label_to_date_contact[keyword]:\n",
        "            contacts_dates_selected.append(date_contact_pairs[:10])\n",
        "\n",
        "contacts_dates_selected  = remove_duplicates(contacts_dates_selected)\n",
        "\n",
        "window_size = 80\n",
        "\n",
        "if not contacts_dates_selected:\n",
        "    print(\"No entries found for \"+' '.join(keyword_list))\n",
        "else:\n",
        "    for x in contacts_dates_selected:\n",
        "        x = tuple(x)\n",
        "        contact_name, date = x\n",
        "        print(\"Contact:\", contact_name)\n",
        "        print(\"Date:\", date)\n",
        "        print()\n",
        "        for x in contact_date_dict[contact_name][date]:\n",
        "            print(\"Isaac Mackey: \" if x['type'] == 1 else contact_name+\":\",x['body'])\n",
        "        # lines = entry.split(\"\\n\")\n",
        "        # for line in lines:\n",
        "        #   if line == \"\":\n",
        "        #     # print()  # Print a blank line\n",
        "        #     continue\n",
        "        #   for i in range(0, len(line), window_size):\n",
        "        #     print(line[i:i + window_size])\n",
        "        #   print()  # Print a newline after each block\n",
        "        print('#'*window_size)\n",
        "        print()"
      ],
      "metadata": {
        "id": "VpJJenacctxf"
      },
      "execution_count": null,
      "outputs": []
    }
  ]
}