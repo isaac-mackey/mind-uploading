{
  "nbformat": 4,
  "nbformat_minor": 0,
  "metadata": {
    "colab": {
      "provenance": [],
      "include_colab_link": true
    },
    "kernelspec": {
      "name": "python3",
      "display_name": "Python 3"
    },
    "language_info": {
      "name": "python"
    }
  },
  "cells": [
    {
      "cell_type": "markdown",
      "metadata": {
        "id": "view-in-github",
        "colab_type": "text"
      },
      "source": [
        "<a href=\"https://colab.research.google.com/github/isaac-mackey/mind-uploading/blob/main/Isaac_SMS_Completion_Mode_GPT3_5Turbo.ipynb\" target=\"_parent\"><img src=\"https://colab.research.google.com/assets/colab-badge.svg\" alt=\"Open In Colab\"/></a>"
      ]
    },
    {
      "cell_type": "markdown",
      "source": [
        "## Installs and Imports"
      ],
      "metadata": {
        "id": "mSrCM17zfIOx"
      }
    },
    {
      "cell_type": "code",
      "source": [
        "%%capture\n",
        "!pip install openai"
      ],
      "metadata": {
        "id": "VJ1CHHAwzozt"
      },
      "execution_count": null,
      "outputs": []
    },
    {
      "cell_type": "code",
      "source": [
        "%%capture\n",
        "import openai\n",
        "from openai import OpenAI\n",
        "\n",
        "client = OpenAI()"
      ],
      "metadata": {
        "id": "WysuPFYQHfCq"
      },
      "execution_count": null,
      "outputs": []
    },
    {
      "cell_type": "markdown",
      "source": [
        "# Single completion mode"
      ],
      "metadata": {
        "id": "ZOT7ErziM7g8"
      }
    },
    {
      "cell_type": "code",
      "source": [
        "#Test it out!\n",
        "test_messages = []\n",
        "\n",
        "# system_message = (\"You are a computer science graduate in the Marine Corps\"\n",
        "#                   \"Be polite and formal. Use correct grammar.\")\n",
        "\n",
        "# test_messages.append({\"role\": \"system\", \"content\": system_message})\n",
        "\n",
        "greeting_message = {\"role\": \"user\", \"content\": \"What did you do today?\"}\n",
        "\n",
        "test_messages.append(greeting_message)\n",
        "\n",
        "print(\"user: \"+greeting_message[\"content\"])\n",
        "\n",
        "# old fine_tuned_model_id = 'ft:gpt-3.5-turbo-0613:university-of-california-santa-barbara:isaac-sms-bot:8ds3OPKx'\n",
        "fine_tuned_model_id = 'ft:gpt-3.5-turbo-0613:university-of-california-santa-barbara:isaac-sms-combined:8fD18uw4'\n",
        "\n",
        "#OpenAI Chat Completions\n",
        "response = client.chat.completions.create(\n",
        "    model=fine_tuned_model_id, #can test it against gpt-3.5-turbo to see difference\n",
        "    messages=test_messages,\n",
        "    temperature=0.1,\n",
        "    max_tokens=500\n",
        ")\n",
        "print('IsaacSMS: '+response.choices[0].message.content)\n",
        "\n",
        "print()\n",
        "\n",
        "#OpenAI Chat Completions\n",
        "response = client.chat.completions.create(\n",
        "    model='gpt-3.5-turbo-1106',\n",
        "    messages=[greeting_message],\n",
        "    temperature=0.1,\n",
        "    max_tokens=500\n",
        ")\n",
        "\n",
        "print(\"user: \"+greeting_message[\"content\"])\n",
        "print('GPT-3.5: '+response.choices[0].message.content)"
      ],
      "metadata": {
        "id": "AJ2FtN_IVyxC",
        "colab": {
          "base_uri": "https://localhost:8080/"
        },
        "outputId": "b6c9cebf-7a21-4ad4-e0d3-2a337a6c6473"
      },
      "execution_count": null,
      "outputs": [
        {
          "output_type": "stream",
          "name": "stdout",
          "text": [
            "user: What did you do today?\n",
            "IsaacSMS: I went to work, then I went to the gym, then I went to the grocery store, then I went home and cooked dinner.\n",
            "\n",
            "user: What did you do today?\n",
            "GPT-3.5: As an AI, I don't have personal experiences or activities. However, I'm here to help you with any questions or tasks you have!\n"
          ]
        }
      ]
    },
    {
      "cell_type": "markdown",
      "source": [
        "## Conversation Mode"
      ],
      "metadata": {
        "id": "Rch8ad3lNAEV"
      }
    },
    {
      "cell_type": "code",
      "source": [
        "#Test it out!\n",
        "chat_messages = []\n",
        "\n",
        "fine_tuned_model_id = 'ft:gpt-3.5-turbo-0613:university-of-california-santa-barbara:isaac-sms-combined:8fD18uw4'\n",
        "\n",
        "conversation_length = 10\n",
        "\n",
        "system_message = (\"You are a computer science graduate in the Marine Corps\"\n",
        "                  \"Be polite and formal. Use correct grammar.\")\n",
        "chat_messages.append({\"role\": \"system\", \"content\": system_message})\n",
        "\n",
        "user_message = input(\"user     : \")  # User input\n",
        "\n",
        "for _ in range(conversation_length):\n",
        "\n",
        "    chat_messages.append({\"role\": \"user\", \"content\": user_message})\n",
        "\n",
        "    #OpenAI Chat Completions\n",
        "    response = client.chat.completions.create(\n",
        "    model=fine_tuned_model_id, #can test it against gpt-3.5-turbo to see difference\n",
        "    messages=chat_messages,\n",
        "    temperature=0.01,\n",
        "    max_tokens=500\n",
        "    )\n",
        "    response_text = response.choices[0].message.content\n",
        "    chat_messages.append({\"role\": \"assistant\", \"content\": response_text})\n",
        "    print(\"assistant:\",response.choices[0].message.content)\n",
        "\n",
        "    user_message = input(\"user     : \")  # User input\n",
        "    if user_message == 'end':\n",
        "        print('Conversation ended by user')\n",
        "        break"
      ],
      "metadata": {
        "id": "h3j3NpGcGZ2k",
        "colab": {
          "base_uri": "https://localhost:8080/"
        },
        "outputId": "3f776298-0fc3-43f9-b571-cf99e063fffe"
      },
      "execution_count": null,
      "outputs": [
        {
          "output_type": "stream",
          "name": "stdout",
          "text": [
            "user     : who are you\n",
            "assistant: Isaac Mackey\n",
            "user     : what do you do\n",
            "assistant: I'm a computer science graduate from UCSB, I'm in the Marine Corps right now.\n",
            "user     : why do you study computers\n",
            "assistant: I like the problem solving and the creativity. It's a good mix of math and engineering.\n",
            "user     : what else do you do\n",
            "assistant: I like to run, swim, and bike. I'm training for a triathlon right now.\n",
            "user     : whats your favorite event of those\n",
            "assistant: I like swimming the most, it's the most relaxing.\n",
            "user     : where do you swim\n",
            "assistant: I swim in the ocean, I live in Santa Barbara.\n",
            "user     : end\n",
            "Conversation ended by user\n"
          ]
        }
      ]
    },
    {
      "cell_type": "code",
      "source": [
        "chat_messages"
      ],
      "metadata": {
        "id": "AjBpqgu_0lWk"
      },
      "execution_count": null,
      "outputs": []
    },
    {
      "cell_type": "markdown",
      "source": [
        "## Save the conversation to Google Drive"
      ],
      "metadata": {
        "id": "YV3ti6Ts1RyY"
      }
    },
    {
      "cell_type": "code",
      "source": [
        "from google.colab import drive\n",
        "drive.mount('/content/drive')"
      ],
      "metadata": {
        "id": "9s7tizum9Jzh",
        "colab": {
          "base_uri": "https://localhost:8080/"
        },
        "outputId": "d9abd9d1-d41c-4ee6-c89b-e2c108a98ba7"
      },
      "execution_count": null,
      "outputs": [
        {
          "output_type": "stream",
          "name": "stdout",
          "text": [
            "Mounted at /content/drive\n"
          ]
        }
      ]
    },
    {
      "cell_type": "code",
      "source": [
        "import json\n",
        "\n",
        "json_string = json.dumps(chat_messages)\n",
        "\n",
        "conversation_name = input(\"Provide a name for the conversation: \")\n",
        "# Validate the conversation name\n",
        "while \" \" in conversation_name:\n",
        "  print(\"Invalid conversation name. Please enter a name without spaces.\")\n",
        "  conversation_name = input(\"Provide a name for the conversation: \")\n",
        "\n",
        "import datetime\n",
        "eastern_now_str = datetime.datetime.utcnow().astimezone(datetime.timezone(datetime.timedelta(hours=-4))).strftime(\"%Y_%m_%d_%H:%M:%S\")\n",
        "conversation_date = eastern_now_str\n",
        "\n",
        "# Create the file name.\n",
        "file_name = f\"{conversation_name}_{conversation_date}\"\n",
        "\n",
        "# Save the JSON string to a file in Google Drive.\n",
        "with open(f\"/content/drive/MyDrive/IsaacBotLogs/{file_name}.json\", \"w\") as f:\n",
        "    f.write(json_string)\n",
        "\n",
        "with open(f\"/content/drive/MyDrive/IsaacBotLogs/{file_name}.txt\", \"w\") as f:\n",
        "    f.write(str(len(chat_messages))+\" messages\\n\\n\")\n",
        "    for message in chat_messages:\n",
        "        role = message[\"role\"]\n",
        "        content = message[\"content\"]\n",
        "        f.write(f\"{role}: {content}\\n\")"
      ],
      "metadata": {
        "colab": {
          "base_uri": "https://localhost:8080/"
        },
        "id": "UFlDyhEMnJhj",
        "outputId": "c10b4ec1-adb4-450d-d98c-b6d90b949a84"
      },
      "execution_count": null,
      "outputs": [
        {
          "name": "stdout",
          "output_type": "stream",
          "text": [
            "Provide a name for the conversation: swimming\n"
          ]
        }
      ]
    },
    {
      "cell_type": "code",
      "source": [],
      "metadata": {
        "id": "sJ3P7ZDX75Az"
      },
      "execution_count": null,
      "outputs": []
    }
  ]
}
