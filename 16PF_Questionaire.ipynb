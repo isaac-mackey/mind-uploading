{
  "nbformat": 4,
  "nbformat_minor": 0,
  "metadata": {
    "colab": {
      "provenance": [],
      "authorship_tag": "ABX9TyN/sW8gtBDU+gqWZZeXc3kS",
      "include_colab_link": true
    },
    "kernelspec": {
      "name": "python3",
      "display_name": "Python 3"
    },
    "language_info": {
      "name": "python"
    }
  },
  "cells": [
    {
      "cell_type": "markdown",
      "metadata": {
        "id": "view-in-github",
        "colab_type": "text"
      },
      "source": [
        "<a href=\"https://colab.research.google.com/github/isaac-mackey/mind-uploading/blob/main/16PF_Questionaire.ipynb\" target=\"_parent\"><img src=\"https://colab.research.google.com/assets/colab-badge.svg\" alt=\"Open In Colab\"/></a>"
      ]
    },
    {
      "cell_type": "code",
      "execution_count": null,
      "metadata": {
        "id": "Pz_GZBZyRGT7"
      },
      "outputs": [],
      "source": [
        "questions = [\n",
        "    \"I take time out for others.\",\n",
        "    \"I know that I am not a special person.\",\n",
        "    \"I take control of things.\",\n",
        "    \"I try to forgive and forget.\",\n",
        "    \"I keep in the background.\",\n",
        "    \"I can't do without the company of others.\",\n",
        "    \"I trust others.\",\n",
        "    \"I am not easily frustrated.\",\n",
        "    \"I cheer people up.\",\n",
        "    \"I often feel uncomfortable around others.\",\n",
        "    \"I seldom feel blue.\",\n",
        "    \"I dislike myself.\",\n",
        "    \"I take charge.\",\n",
        "    \"I let others make the decisions.\",\n",
        "    \"I believe in the importance of art.\",\n",
        "    \"I like to get lost in thought.\",\n",
        "    \"I wait for others to lead the way.\",\n",
        "    \"I am willing to talk about myself.\",\n",
        "    \"I find it difficult to approach others.\",\n",
        "    \"I enjoy my privacy.\",\n",
        "    \"I swim against the current.\",\n",
        "    \"I feel guilty when I say 'no.'\",\n",
        "    \"I am hard to get to know.\",\n",
        "    \"I don't talk a lot.\",\n",
        "    \"I believe in one true religion.\",\n",
        "    \"I am not easily annoyed.\",\n",
        "    \"I feel crushed by setbacks.\",\n",
        "    \"I am afraid that I will do the wrong thing.\",\n",
        "    \"I enjoy being part of a loud crowd.\",\n",
        "    \"I weigh the pros against the cons.\",\n",
        "    \"I do unexpected things.\",\n",
        "    \"I get angry easily.\",\n",
        "    \"I am quiet around strangers.\",\n",
        "    \"I don't mind eating alone.\",\n",
        "    \"I make people feel at ease.\",\n",
        "    \"I use my brain.\",\n",
        "    \"I have a good word for everyone.\",\n",
        "    \"I feel desperate.\",\n",
        "    \"I want to be in charge.\",\n",
        "    \"I feel comfortable around people.\",\n",
        "    \"I am the life of the party.\",\n",
        "    \"I don't let others discourage me.\",\n",
        "    \"I enjoy being part of a group.\",\n",
        "    \"I love to daydream.\",\n",
        "    \"I distrust people.\",\n",
        "    \"I worry about things.\",\n",
        "    \"I am not easily bothered by things.\",\n",
        "    \"I respect authority.\",\n",
        "    \"I do things that others find strange.\",\n",
        "    \"I skip difficult words while reading.\",\n",
        "    \"I feel comfortable with myself.\",\n",
        "    \"I am exacting in my work.\",\n",
        "    \"I tend to analyze things.\",\n",
        "    \"I continue until everything is perfect.\",\n",
        "    \"I believe that people are basically moral.\",\n",
        "    \"I am quick to judge others.\",\n",
        "    \"I am relaxed most of the time.\",\n",
        "    \"I enjoy silence.\",\n",
        "    \"I show my feelings.\",\n",
        "    \"I judge people by their appearance.\",\n",
        "    \"I prefer variety to routine.\",\n",
        "    \"I never challenge things.\",\n",
        "    \"I can't stand being contradicted.\",\n",
        "    \"I try not to think about the needy.\",\n",
        "    \"I am easily put out.\",\n",
        "    \"I prefer to do things by myself.\",\n",
        "    \"I get irritated easily.\",\n",
        "    \"I know the answers to many questions.\",\n",
        "    \"I trust what people say.\",\n",
        "    \"I like to stand during the national anthem.\",\n",
        "    \"I love flowers.\",\n",
        "    \"I find it hard to forgive others.\",\n",
        "    \"I leave my belongings around.\",\n",
        "    \"I feel others' emotions.\",\n",
        "    \"I let myself be pushed around.\",\n",
        "    \"I don't like crowded events.\",\n",
        "    \"I enjoy hearing new ideas.\",\n",
        "    \"I act wild and crazy.\",\n",
        "    \"I read a lot.\",\n",
        "    \"I try to follow the rules.\",\n",
        "    \"I enjoy wild flights of fantasy.\",\n",
        "    \"I use swear words.\",\n",
        "    \"I don't worry about things that have already happened.\",\n",
        "    \"I say what I think.\",\n",
        "    \"I am easily hurt.\",\n",
        "    \"I enjoy spending time by myself.\",\n",
        "    \"I don't mind being the center of attention.\",\n",
        "    \"I seldom get lost in thought.\",\n",
        "    \"I seldom daydream.\",\n",
        "    \"I suspect hidden motives in others.\",\n",
        "    \"I am not interested in abstract ideas.\",\n",
        "    \"I am easily discouraged.\",\n",
        "    \"I am not afraid of providing criticism.\",\n",
        "    \"I disclose my intimate thoughts.\",\n",
        "    \"I don't like action movies.\",\n",
        "    \"I want everything to be 'just right.'\",\n",
        "    \"I feel threatened easily.\",\n",
        "    \"I am the last to laugh at a joke.\",\n",
        "    \"I enjoy discussing movies and books with others.\",\n",
        "    \"I joke around a lot.\",\n",
        "    \"I have a poor vocabulary.\",\n",
        "    \"I dislike loud music.\",\n",
        "    \"I make insightful remarks.\",\n",
        "    \"I enjoy bringing people together.\",\n",
        "    \"I get chores done right away.\",\n",
        "    \"I reflect on things before acting.\",\n",
        "    \"I am not bothered by disorder.\",\n",
        "    \"I don't like to get involved in other people's problems.\",\n",
        "    \"I break rules.\",\n",
        "    \"I can take strong measures.\",\n",
        "    \"I love large parties.\",\n",
        "    \"I do not like poetry.\",\n",
        "    \"I believe that others have good intentions.\",\n",
        "    \"I leave a mess in my room.\",\n",
        "    \"I put off unpleasant tasks.\",\n",
        "    \"I oppose authority.\",\n",
        "    \"I resist authority.\",\n",
        "    \"I readily overcome setbacks.\",\n",
        "    \"I get confused easily.\",\n",
        "    \"I know how to comfort others.\",\n",
        "    \"I am open about myself to others.\",\n",
        "    \"I rarely notice my emotional reactions.\",\n",
        "    \"I amuse my friends.\",\n",
        "    \"I love to think up new ways of doing things.\",\n",
        "    \"I dislike works of fiction.\",\n",
        "    \"I do not enjoy watching dance performances.\",\n",
        "    \"I start conversations.\",\n",
        "    \"I make friends easily.\",\n",
        "    \"I often feel blue.\",\n",
        "    \"I counter others' arguments.\",\n",
        "    \"I am not interested in theoretical discussions.\",\n",
        "    \"I seek quiet.\",\n",
        "    \"I have frequent mood swings.\",\n",
        "    \"I learn quickly.\",\n",
        "    \"I rarely look for a deeper meaning in things.\",\n",
        "    \"I like to read.\",\n",
        "    \"I keep my thoughts to myself.\",\n",
        "    \"I try to avoid complex people.\",\n",
        "    \"I reveal little about myself.\",\n",
        "    \"I am not bothered by messy people.\",\n",
        "    \"I consider myself an average person.\",\n",
        "    \"I like order.\",\n",
        "    \"I avoid philosophical discussions.\",\n",
        "    \"I am annoyed by others' mistakes.\",\n",
        "    \"I cry during movies.\",\n",
        "    \"I am not really interested in others.\",\n",
        "    \"I believe that people are essentially evil.\",\n",
        "    \"I know how to get around the rules.\",\n",
        "    \"I seldom joke around.\",\n",
        "    \"I carry the conversation to a higher level.\",\n",
        "    \"I spend time thinking about past mistakes.\",\n",
        "    \"I talk to a lot of different people at parties.\",\n",
        "    \"I bottle up my feelings.\",\n",
        "    \"I want to be left alone.\",\n",
        "    \"I take an interest in other people's lives.\",\n",
        "    \"I am wary of others.\",\n",
        "    \"I enjoy teamwork.\",\n",
        "    \"I have little to say.\",\n",
        "    \"I believe laws should be strictly enforced.\",\n",
        "    \"I do things by the book.\",\n",
        "    \"I am open about my feelings.\",\n",
        "    \"I believe that people seldom tell you the whole truth.\",\n",
        "    \"I take deviant positions.\"\n",
        "]"
      ]
    },
    {
      "cell_type": "code",
      "source": [
        "len(questions)"
      ],
      "metadata": {
        "colab": {
          "base_uri": "https://localhost:8080/"
        },
        "id": "c8pK1C7UReg2",
        "outputId": "d4ff1454-bfdf-4dac-f35d-4002333818b1"
      },
      "execution_count": null,
      "outputs": [
        {
          "output_type": "execute_result",
          "data": {
            "text/plain": [
              "163"
            ]
          },
          "metadata": {},
          "execution_count": 2
        }
      ]
    },
    {
      "cell_type": "code",
      "source": [
        "def ask_question(prompt):\n",
        "    while True:\n",
        "        answer = input(prompt + \"\\nEnter 1 for 'strongly disagree', 2 for 'disagree', 3 for 'neither agree nor disagree', 4 for 'agree', or 5 for 'strongly agree': \")\n",
        "        if answer in ['1', '2', '3', '4', '5']:\n",
        "            return int(answer)\n",
        "        else:\n",
        "            print(\"Invalid input. Please enter a number between 1 and 5.\")\n",
        "\n",
        "answers = {}\n",
        "\n",
        "print(\"Please respond to the following prompts:\")\n",
        "\n",
        "for prompt in questions:\n",
        "    answer = ask_question(prompt)\n",
        "    answers[prompt] = answer\n",
        "\n",
        "print(\"\\nThank you for your responses!\")\n",
        "print(\"Answers:\", answers)\n",
        "\n",
        "import csv\n",
        "\n",
        "def save_answers_to_csv(name, answers):\n",
        "    with open(name+'-answers.csv', 'w', newline='') as csvfile:\n",
        "        fieldnames = ['Prompt', 'Answer']\n",
        "        writer = csv.DictWriter(csvfile, fieldnames=fieldnames)\n",
        "\n",
        "        writer.writeheader()\n",
        "        for prompt, answer in answers.items():\n",
        "            writer.writerow({'Prompt': prompt, 'Answer': answer})\n",
        "\n",
        "name = input(\"To save the answers, provide a name and date (no spaces). Otherwise, type \\'end\\'\")\n",
        "if not name == 'end':\n",
        "    save_answers_to_csv(name, answers)"
      ],
      "metadata": {
        "colab": {
          "base_uri": "https://localhost:8080/",
          "height": 1000
        },
        "id": "HHgVrKxgRg4T",
        "outputId": "def008a3-cbb7-4ff4-be24-63fe1aea43ea"
      },
      "execution_count": null,
      "outputs": [
        {
          "name": "stdout",
          "output_type": "stream",
          "text": [
          ]
        },
      ]
    },
    {
      "cell_type": "code",
      "source": [
        "def save_answers_to_csv(name, answers):\n",
        "    with open(name+'-16-personality-factors-answers.csv', 'w', newline='') as csvfile:\n",
        "        fieldnames = ['Prompt', 'Answer']\n",
        "        writer = csv.DictWriter(csvfile, fieldnames=fieldnames)\n",
        "\n",
        "        writer.writeheader()\n",
        "        for prompt, answer in answers.items():\n",
        "            writer.writerow({'Prompt': prompt, 'Answer': answer})\n",
        "\n",
        "name = input(\"To save the answers, provide a name and date (no spaces). Otherwise, type \\'end\\'\")\n",
        "if not name == 'end':\n",
        "    save_answers_to_csv(name, answers)"
      ],
      "metadata": {
        "colab": {
          "base_uri": "https://localhost:8080/"
        },
        "id": "b858YNroXC2I",
        "outputId": "bbd33a41-a38d-4be5-b117-e135532d0097"
      },
      "execution_count": null,
      "outputs": [
        {
          "name": "stdout",
          "output_type": "stream",
          "text": [
            "To save the answers, provide a name and date (no spaces). Otherwise, type 'end'end\n"
          ]
        }
      ]
    },
    {
      "cell_type": "code",
      "source": [
        "!pip install openai\n",
        "!pip install numpy"
      ],
      "metadata": {
        "colab": {
          "base_uri": "https://localhost:8080/"
        },
        "id": "pQG4e2A1Yxtc",
        "outputId": "5e74a2ed-4dc6-45f7-ea86-623f55941354"
      },
      "execution_count": null,
      "outputs": [
        {
          "output_type": "stream",
          "name": "stdout",
          "text": [
            "Collecting openai\n",
            "  Downloading openai-1.16.1-py3-none-any.whl (266 kB)\n",
            "\u001b[2K     \u001b[90m━━━━━━━━━━━━━━━━━━━━━━━━━━━━━━━━━━━━━━━━\u001b[0m \u001b[32m266.9/266.9 kB\u001b[0m \u001b[31m1.8 MB/s\u001b[0m eta \u001b[36m0:00:00\u001b[0m\n",
            "\u001b[?25hRequirement already satisfied: anyio<5,>=3.5.0 in /usr/local/lib/python3.10/dist-packages (from openai) (3.7.1)\n",
            "Requirement already satisfied: distro<2,>=1.7.0 in /usr/lib/python3/dist-packages (from openai) (1.7.0)\n",
            "Collecting httpx<1,>=0.23.0 (from openai)\n",
            "  Downloading httpx-0.27.0-py3-none-any.whl (75 kB)\n",
            "\u001b[2K     \u001b[90m━━━━━━━━━━━━━━━━━━━━━━━━━━━━━━━━━━━━━━━━\u001b[0m \u001b[32m75.6/75.6 kB\u001b[0m \u001b[31m8.8 MB/s\u001b[0m eta \u001b[36m0:00:00\u001b[0m\n",
            "\u001b[?25hRequirement already satisfied: pydantic<3,>=1.9.0 in /usr/local/lib/python3.10/dist-packages (from openai) (2.6.4)\n",
            "Requirement already satisfied: sniffio in /usr/local/lib/python3.10/dist-packages (from openai) (1.3.1)\n",
            "Requirement already satisfied: tqdm>4 in /usr/local/lib/python3.10/dist-packages (from openai) (4.66.2)\n",
            "Requirement already satisfied: typing-extensions<5,>=4.7 in /usr/local/lib/python3.10/dist-packages (from openai) (4.10.0)\n",
            "Requirement already satisfied: idna>=2.8 in /usr/local/lib/python3.10/dist-packages (from anyio<5,>=3.5.0->openai) (3.6)\n",
            "Requirement already satisfied: exceptiongroup in /usr/local/lib/python3.10/dist-packages (from anyio<5,>=3.5.0->openai) (1.2.0)\n",
            "Requirement already satisfied: certifi in /usr/local/lib/python3.10/dist-packages (from httpx<1,>=0.23.0->openai) (2024.2.2)\n",
            "Collecting httpcore==1.* (from httpx<1,>=0.23.0->openai)\n",
            "  Downloading httpcore-1.0.5-py3-none-any.whl (77 kB)\n",
            "\u001b[2K     \u001b[90m━━━━━━━━━━━━━━━━━━━━━━━━━━━━━━━━━━━━━━━━\u001b[0m \u001b[32m77.9/77.9 kB\u001b[0m \u001b[31m6.3 MB/s\u001b[0m eta \u001b[36m0:00:00\u001b[0m\n",
            "\u001b[?25hCollecting h11<0.15,>=0.13 (from httpcore==1.*->httpx<1,>=0.23.0->openai)\n",
            "  Downloading h11-0.14.0-py3-none-any.whl (58 kB)\n",
            "\u001b[2K     \u001b[90m━━━━━━━━━━━━━━━━━━━━━━━━━━━━━━━━━━━━━━━━\u001b[0m \u001b[32m58.3/58.3 kB\u001b[0m \u001b[31m7.4 MB/s\u001b[0m eta \u001b[36m0:00:00\u001b[0m\n",
            "\u001b[?25hRequirement already satisfied: annotated-types>=0.4.0 in /usr/local/lib/python3.10/dist-packages (from pydantic<3,>=1.9.0->openai) (0.6.0)\n",
            "Requirement already satisfied: pydantic-core==2.16.3 in /usr/local/lib/python3.10/dist-packages (from pydantic<3,>=1.9.0->openai) (2.16.3)\n",
            "Installing collected packages: h11, httpcore, httpx, openai\n",
            "Successfully installed h11-0.14.0 httpcore-1.0.5 httpx-0.27.0 openai-1.16.1\n",
            "Requirement already satisfied: numpy in /usr/local/lib/python3.10/dist-packages (1.25.2)\n"
          ]
        }
      ]
    },
    {
      "cell_type": "code",
      "source": [
        "import openai\n",
        "from openai import OpenAI\n",
        "\n",
        "import csv\n",
        "import json\n",
        "import os\n",
        "import numpy as np\n",
        "from collections import defaultdict\n",
        "\n",
        "def show_json(obj):\n",
        "    display(json.loads(obj.model_dump_json()))"
      ],
      "metadata": {
        "id": "zTwyoy4zY0Tn"
      },
      "execution_count": null,
      "outputs": []
    },
    {
      "cell_type": "code",
      "source": [
        "system_message = (\"You are a computer science graduate in the Marine Corps\"\n",
        "                  \"Be polite and formal. Use correct grammar.\")\n",
        "\n",
        "#retrieve fine-tune model\n",
        "\n",
        "def ask_question(prompt):\n",
        "    while True:\n",
        "        answer = input(prompt + \"\\nEnter 1 for 'strongly disagree', 2 for 'disagree', 3 for 'neither agree nor disagree', 4 for 'agree', or 5 for 'strongly agree': \")\n",
        "        if answer in ['1', '2', '3', '4', '5']:\n",
        "            return int(answer)\n",
        "        else:\n",
        "            print(\"Invalid input. \")\n",
        "\n",
        "prompts = questions\n",
        "\n",
        "base_chatbot_answers = {}\n",
        "\n",
        "for p in prompts:\n",
        "\n",
        "    prompt_message = \"How does the following statement apply to you?\\n\"+p+\"\\nEnter 1 for 'strongly disagree', 2 for 'disagree', 3 for 'neither agree nor disagree', 4 for 'agree', or 5 for 'strongly agree'. Please answer with exactly one number and no words.\"\n",
        "\n",
        "    chat_messages = [{\"role\": \"system\", \"content\": system_message}]\n",
        "\n",
        "    chat_messages.append({\"role\": \"user\", \"content\": prompt_message})\n",
        "    print(p)\n",
        "\n",
        "    #OpenAI Chat Completions\n",
        "    response = client.chat.completions.create(\n",
        "    #model=fine_tuned_model_id, #can test it against gpt-3.5-turbo to see difference\n",
        "    model='gpt-3.5-turbo-1106',\n",
        "    messages=chat_messages,\n",
        "    temperature=0.01,\n",
        "    max_tokens=500\n",
        "    )\n",
        "    response_text = response.choices[0].message.content\n",
        "    print(response_text)\n",
        "\n",
        "    while response_text not in [str(x) for x in range(5)]:\n",
        "        error_message = {\"role\": \"user\", \"content\": \"Please answer with a number and nothing else\"}\n",
        "        print(error_message)\n",
        "        chat_messages.append(error_message)\n",
        "        #OpenAI Chat Completions\n",
        "        response = client.chat.completions.create(\n",
        "        model=fine_tuned_model_id, #can test it against gpt-3.5-turbo to see difference\n",
        "        messages=chat_messages,\n",
        "        temperature=0.01,\n",
        "        max_tokens=500\n",
        "        )\n",
        "        response_text = response.choices[0].message.content\n",
        "        print(response_text)\n",
        "\n",
        "    base_chatbot_answers[p] = response_text\n",
        "\n",
        "    print()"
      ],
      "metadata": {
        "colab": {
          "base_uri": "https://localhost:8080/"
        },
        "id": "_3bGeB3iYuOS",
        "outputId": "5ad1ea14-89f5-4839-9199-735f23e246b3"
      },
      "execution_count": null,
      "outputs": [
        {
          "output_type": "stream",
          "name": "stdout",
          "text": [
          ]
        }
      ]
    },
    {
      "cell_type": "code",
      "source": [
        "def save_answers_to_csv(name, answers):\n",
        "    with open(name+'-16-personality-factors-answers.csv', 'w', newline='') as csvfile:\n",
        "        fieldnames = ['Prompt', 'Answer']\n",
        "        writer = csv.DictWriter(csvfile, fieldnames=fieldnames)\n",
        "\n",
        "        writer.writeheader()\n",
        "        for prompt, answer in answers.items():\n",
        "            writer.writerow({'Prompt': prompt, 'Answer': answer})\n",
        "\n",
        "name = input(\"To save the answers, provide a name and date (no spaces). Otherwise, type \\'end\\'\")\n",
        "if not name == 'end':\n",
        "    save_answers_to_csv(name, base_chatbot_answers)"
      ],
      "metadata": {
        "colab": {
          "base_uri": "https://localhost:8080/"
        },
        "id": "3LPqdUpxYgOX",
        "outputId": "3e01a77b-d3d1-453f-f39e-48bcbdca71d6"
      },
      "execution_count": null,
      "outputs": [
        {
          "name": "stdout",
          "output_type": "stream",
          "text": [
            "To save the answers, provide a name and date (no spaces). Otherwise, type 'end'gpt-3.5-turbo-1106\n"
          ]
        }
      ]
    },
    {
      "cell_type": "code",
      "source": [
        "answers_chatbot_answers_diff = []\n",
        "chatbot_answers_base_chatbot_answers_diff = []\n",
        "base_chatbot_answers_answers_diff = []\n",
        "\n",
        "for x in questions:\n",
        "    answers_chatbot_answers_diff.append(int(answers[x])-int(chatbot_answers[x]))\n",
        "    chatbot_answers_base_chatbot_answers_diff.append(int(chatbot_answers[x])-int(base_chatbot_answers[x]))\n",
        "    base_chatbot_answers_answers_diff.append(int(base_chatbot_answers[x])-int(answers[x]))\n",
        "\n",
        "print(sum(answers_chatbot_answers_diff)/len(answers_chatbot_answers_diff))\n",
        "print(sum(chatbot_answers_base_chatbot_answers_diff)/len(chatbot_answers_base_chatbot_answers_diff))\n",
        "print(sum(base_chatbot_answers_answers_diff)/len(base_chatbot_answers_answers_diff))"
      ],
      "metadata": {
        "colab": {
          "base_uri": "https://localhost:8080/"
        },
        "id": "2I_IGhTYZ_HM",
        "outputId": "8acd7872-bade-4275-bd28-0ef3b7d9c283"
      },
      "execution_count": null,
      "outputs": [
        {
          "output_type": "stream",
          "name": "stdout",
          "text": [
            "-0.6319018404907976\n",
            "0.2085889570552147\n",
            "0.4233128834355828\n"
          ]
        }
      ]
    },
    {
      "cell_type": "markdown",
      "source": [
        "Base vs. Tuned: 0.2085889570552147\n",
        "\n",
        "Base vs. My answers: 0.4233128834355828\n",
        "\n",
        "My answers vs. Tuned: 0.6319018404907976\n",
        "\n"
      ],
      "metadata": {
        "id": "0y3i4gMkovke"
      }
    },
    {
      "cell_type": "code",
      "source": [],
      "metadata": {
        "id": "Ss_m3R9tnsst"
      },
      "execution_count": null,
      "outputs": []
    }
  ]
}
